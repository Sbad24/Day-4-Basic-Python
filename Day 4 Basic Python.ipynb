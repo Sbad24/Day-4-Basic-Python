{
 "cells": [
  {
   "cell_type": "markdown",
   "metadata": {},
   "source": [
    "# Day 4: Basic Python\n",
    "\n",
    "__\"When you first start to study a field, it seems like you have to memorize a zillion things. You don't. What you need is to identify the core principles- generally three to twelve of them-that govern the field. The million things you thought you had to memorize are simple various combinations of the core principles\" - John T. Reed, Real Estate Investment__ \n",
    "\n",
    "This is a reference notebook that I complied during my process of learning python. I want to acknowledge all the resources that I got besides the knowledge I put to this notebook. Online courses (Pierian Data), Book (Python crash course), Github. I have no intention of copyright infringement but for personal reference in learning.\n",
    "\n",
    "__Table of Content__ <br>\n",
    "1.  Basic Python <br>\n",
    "2.  Arithmetic <br>\n",
    "3.  Variables <br>\n",
    "3.0.1  Assign Value to Multiple Variables <br>\n",
    "4.  Comment <br>\n",
    "5.  Zen of python <br>\n",
    "6.  Data types <br>\n",
    "6.1  Printing <br>\n",
    "6.2  Printing the Data type <br>\n",
    "6.3  Numbers <br>\n",
    "6.3.1  Underscore in Numbers <br>\n",
    "6.4  Strings <br>\n",
    "6.4.1  string format <br>\n",
    "6.4.1.1  %-formatting old format <br>\n",
    "6.4.1.2  str.format() <br>\n",
    "6.4.1.3  f-string is the best because it's flexible and versatile <br>\n",
    "6.4.2  Python String Methods <br>\n",
    "6.5  List <br>\n",
    "6.5.1  creating a nested list <br>\n",
    "6.5.2  checking the type <br>\n",
    "6.5.3  printing the list <br>\n",
    "6.5.4  indexing list <br>\n",
    "6.5.5  slicing the list <br>\n",
    "6.5.6  replacing an item in the list <br>\n",
    "6.6  List Comprehensions <br>\n",
    "6.6.1  Basic structure of a list comprehension <br>\n",
    "6.6.2  Multiple Iteration <br>\n",
    "6.6.3  Conditionals on the Iterator <br>\n",
    "6.6.4  Conditionals on the Value <br>\n",
    "7.  Dictionaries <br>\n",
    "8.  Operators <br>\n",
    "8.1   Table of Comparison Operators <br>\n",
    "8.2  == - equal to <br>\n",
    "8.3  != - not equal to <br>\n",
    "8.4  > - greater than <br>\n",
    "8.5  < - less than <br>\n",
    "8.6  >= - greater than or equal to <br>\n",
    "8.7  <= - less than or equal to <br>\n",
    "8.8  Chained Comparison Operators <br>\n",
    "8.8.1  and <br>\n",
    "8.9  or <br>\n",
    "9.  Boolean type and Boolean operations <br>\n",
    "10.  Tuples <br>\n",
    "11.  Set <br>\n",
    "12.  Control Structures <br>\n",
    "12.1  Selection by conditionals<br>\n",
    "12.1.1  if <br>\n",
    "12.1.2  if - else <br>\n",
    "12.1.3  if - elif and if - elif - else<br>\n",
    "12.1.4  if - if Testing Multiple Conditions <br>\n",
    "12.1.5  Functions with conditionals and nested conditionals <br>\n",
    "12.2  Repetition <br>\n",
    "12.2.1  For loop <br>\n",
    "12.2.2  while Loop <br>\n",
    "12.3  Exceptions <br>\n",
    "12.3.1  break <br>\n",
    "12.3.2  continue <br>\n",
    "12.3.3  try-except <br> \n",
    "13.  Python keywords<br>\n",
    "14.  Functions <br>\n",
    "14.1  Built in functions<br>\n",
    "14.1.1  len() built in function<br>\n",
    "14.1.2  max() built in function<br>\n",
    "14.1.3  abs() built in function<br>\n",
    "14.1.4  help() built in function<br>\n",
    "14.1.5  map() built in function<br>\n",
    "14.1.6  filter() function<br>\n",
    "14.2  User Defined function<br>\n",
    "14.2.1  Keyword Arguments<br>\n",
    "14.2.2  Arbitrary Keyword Arguments, **kwargs<br>\n",
    "14.2.3  print vs return<br>\n",
    "15.  lambda expression<br>\n",
    "16.  methods vs functions<br>\n",
    "17.  Troubleshoot<br>\n",
    "18.  Reference<br>"
   ]
  },
  {
   "cell_type": "markdown",
   "metadata": {
    "ExecuteTime": {
     "end_time": "2020-07-28T06:41:04.876200Z",
     "start_time": "2020-07-28T06:41:04.872177Z"
    }
   },
   "source": [
    "# Arithmetic\n",
    "\n",
    "All these are built from our well known elementary operations.\n",
    "\n",
    "Operators +, -, * and / work just like in most other languages; parentheses can be used for grouping."
   ]
  },
  {
   "cell_type": "code",
   "execution_count": 19,
   "metadata": {
    "ExecuteTime": {
     "end_time": "2020-08-26T21:54:20.745452Z",
     "start_time": "2020-08-26T21:54:20.732372Z"
    }
   },
   "outputs": [
    {
     "name": "stdout",
     "output_type": "stream",
     "text": [
      "5\n",
      "-4.0\n",
      "2\n",
      "6\n",
      "1.5\n",
      "9\n",
      "1\n",
      "1\n"
     ]
    }
   ],
   "source": [
    "print(2 + 3)   # addition(+) # int + int\n",
    "print(1. + -5) # addition(+) float + int\n",
    "print(3 - 1)   # subtraction(-) #int - int\n",
    "print(2 * 3)   # multiplication(*) \n",
    "print(3 / 2)   # division(/)\n",
    "print(3 ** 2)  # exponential(**)\n",
    "print(3 % 2)   # modulus(%)\n",
    "print(3 // 2)  # Floor division operator(//)"
   ]
  },
  {
   "cell_type": "markdown",
   "metadata": {},
   "source": [
    "# Variables\n",
    "\n",
    "* Every variable is connected to a value, which is information associated with that variable.\n",
    "* containers to store values.\n",
    "* to avoid having to re-type a long expression, \n",
    "* or to keep a value so the computer doesn’t have to recompute it.  \n",
    "\n",
    "The equal sign `=` is used to assign a value to a variable.\n",
    "\n",
    "Rules:\n",
    "\n",
    "* Variable names in Python can contain only letters, numbers, and underscores. They can start with a letter or an underscorem but not with a number.\n",
    "* Spaces are not allowed in variables names, but underscore can be used to separate words in variable names. \n",
    "* Python names are case sensitive.  This applies both to variable names and to function names imported from modules.\n",
    "* avoid using Python built-in keywords like `list` and `str` (refer to built in keyword section)\n",
    "* names can not contain any of these symbols\n",
    "\n",
    "Consideration\n",
    "\n",
    "* it's considered best practice ([PEP8](https://www.python.org/dev/peps/pep-0008/#function-and-variable-names)) that names are lowercase with underscores\n",
    "* avoid using the single characters `l` (lowercase letter el), `O` (uppercase letter oh) and `I` (uppercase letter eye) as they can be confused with `1` and `0`\n",
    "\n",
    "* Variables should short but descriptive names\n",
    "* Good names:  initial_price, my_income_tax, discounted_price2\n",
    " "
   ]
  },
  {
   "cell_type": "code",
   "execution_count": 20,
   "metadata": {
    "ExecuteTime": {
     "end_time": "2020-08-26T21:54:21.264471Z",
     "start_time": "2020-08-26T21:54:21.238420Z"
    }
   },
   "outputs": [
    {
     "name": "stdout",
     "output_type": "stream",
     "text": [
      "First name: Elon\n",
      "First name length: 4\n",
      "Last name:  Musk\n",
      "Last name length:  4\n",
      "Country:  South Africa\n",
      "City:  Pretoria\n",
      "Age:  49\n",
      "Person information:  {'firstname': 'Elon', 'lastname': 'Musk', 'country': 'South Africa', 'city': 'Pretoria'}\n",
      "Elon Musk South Africa\n",
      "First name: Elon\n",
      "Last name:  Musk\n",
      "Country:  South Africa\n",
      "Age:  49\n"
     ]
    }
   ],
   "source": [
    "first_name = 'Elon'\n",
    "last_name = 'Musk'\n",
    "country = 'South Africa'\n",
    "city = 'Pretoria'\n",
    "age = 49\n",
    "person_info = {\n",
    "    'firstname':'Elon', \n",
    "    'lastname':'Musk', \n",
    "    'country':'South Africa',\n",
    "    'city':'Pretoria'\n",
    "    }\n",
    "\n",
    "# Printing the values stored in the variables\n",
    "\n",
    "print('First name:', first_name)\n",
    "print('First name length:', len(first_name))\n",
    "print('Last name: ', last_name)\n",
    "print('Last name length: ', len(last_name))\n",
    "print('Country: ', country)\n",
    "print('City: ', city)\n",
    "print('Age: ', age)\n",
    "print('Person information: ', person_info)\n",
    "\n",
    "\n",
    "# Declaring multiple variables in one line\n",
    "\n",
    "first_name, last_name, country, age = 'Elon', 'Musk', 'South Africa', 49\n",
    "\n",
    "print(first_name, last_name, country)\n",
    "print('First name:', first_name)\n",
    "print('Last name: ', last_name)\n",
    "print('Country: ', country)\n",
    "print('Age: ', age)\n"
   ]
  },
  {
   "cell_type": "markdown",
   "metadata": {},
   "source": [
    "### Assign Value to Multiple Variables"
   ]
  },
  {
   "cell_type": "code",
   "execution_count": 21,
   "metadata": {
    "ExecuteTime": {
     "end_time": "2020-08-26T21:54:21.738051Z",
     "start_time": "2020-08-26T21:54:21.732069Z"
    }
   },
   "outputs": [
    {
     "name": "stdout",
     "output_type": "stream",
     "text": [
      "Orange\n",
      "Banana\n",
      "Cherry\n"
     ]
    }
   ],
   "source": [
    "x, y, z = \"Orange\", \"Banana\", \"Cherry\"\n",
    "print(x)\n",
    "print(y)\n",
    "print(z)"
   ]
  },
  {
   "cell_type": "code",
   "execution_count": 22,
   "metadata": {
    "ExecuteTime": {
     "end_time": "2020-08-26T21:54:21.986423Z",
     "start_time": "2020-08-26T21:54:21.974419Z"
    }
   },
   "outputs": [
    {
     "name": "stdout",
     "output_type": "stream",
     "text": [
      "3\n",
      "4\n",
      "9\n"
     ]
    }
   ],
   "source": [
    "a, b , c = 3, 4 , 9\n",
    "print(a)\n",
    "print(b)\n",
    "print(c)"
   ]
  },
  {
   "cell_type": "markdown",
   "metadata": {},
   "source": [
    "# Comment"
   ]
  },
  {
   "cell_type": "markdown",
   "metadata": {},
   "source": [
    "* Hash mark `#` indicates a comment. Anything following a has mark in your code is ignored by the Python interpreter.\n",
    "* reason for comment is to explain what your code is supposed to do and how you are making it work.\n",
    "* can use to trouble shooting\n",
    "* Writing clear, concise descriptive comment is best practice especially if you are collaborating with a project. Also it's a good reminder to yourself what you are doing at that time."
   ]
  },
  {
   "cell_type": "code",
   "execution_count": 23,
   "metadata": {
    "ExecuteTime": {
     "end_time": "2020-08-26T21:54:22.748969Z",
     "start_time": "2020-08-26T21:54:22.736002Z"
    }
   },
   "outputs": [
    {
     "name": "stdout",
     "output_type": "stream",
     "text": [
      "Hello Python people!\n"
     ]
    }
   ],
   "source": [
    "# Say Hello to everyone.\n",
    "print(\"Hello Python people!\")"
   ]
  },
  {
   "cell_type": "markdown",
   "metadata": {},
   "source": [
    "# Zen of python"
   ]
  },
  {
   "cell_type": "code",
   "execution_count": 24,
   "metadata": {
    "ExecuteTime": {
     "end_time": "2020-08-26T21:54:23.232922Z",
     "start_time": "2020-08-26T21:54:23.225664Z"
    }
   },
   "outputs": [
    {
     "name": "stdout",
     "output_type": "stream",
     "text": [
      "The Zen of Python, by Tim Peters\n",
      "\n",
      "Beautiful is better than ugly.\n",
      "Explicit is better than implicit.\n",
      "Simple is better than complex.\n",
      "Complex is better than complicated.\n",
      "Flat is better than nested.\n",
      "Sparse is better than dense.\n",
      "Readability counts.\n",
      "Special cases aren't special enough to break the rules.\n",
      "Although practicality beats purity.\n",
      "Errors should never pass silently.\n",
      "Unless explicitly silenced.\n",
      "In the face of ambiguity, refuse the temptation to guess.\n",
      "There should be one-- and preferably only one --obvious way to do it.\n",
      "Although that way may not be obvious at first unless you're Dutch.\n",
      "Now is better than never.\n",
      "Although never is often better than *right* now.\n",
      "If the implementation is hard to explain, it's a bad idea.\n",
      "If the implementation is easy to explain, it may be a good idea.\n",
      "Namespaces are one honking great idea -- let's do more of those!\n"
     ]
    }
   ],
   "source": [
    "import this"
   ]
  },
  {
   "cell_type": "markdown",
   "metadata": {},
   "source": [
    "Simple is better than complex. <br>\n",
    "Complex is better than complicated. <br>\n",
    "Readability counts. <br>\n",
    "There should be one-- and preferably only one --obvious way to do it. <br>\n",
    "Now is better than never. <br>"
   ]
  },
  {
   "cell_type": "code",
   "execution_count": null,
   "metadata": {},
   "outputs": [],
   "source": []
  },
  {
   "cell_type": "markdown",
   "metadata": {
    "ExecuteTime": {
     "end_time": "2020-07-28T06:41:34.350004Z",
     "start_time": "2020-07-28T06:41:34.346015Z"
    }
   },
   "source": [
    "# Data types\n",
    "\n",
    "* Printing\n",
    "* Numbers\n",
    "* Strings\n",
    "* Lists\n",
    "* Dictionaries\n",
    "* Booleans\n",
    "* Tuples\n",
    "* Sets"
   ]
  },
  {
   "cell_type": "markdown",
   "metadata": {},
   "source": [
    "<img src=\"images/image (11).png\"/>\n",
    "\n",
    "https://towardsdatascience.com/data-structures-in-python-python-for-aspiring-data-scientists-b52bc058fcbd"
   ]
  },
  {
   "cell_type": "markdown",
   "metadata": {},
   "source": [
    "## Printing\n",
    "\n",
    "The print() function prints the given object to the standard output device (screen) or to the text stream file."
   ]
  },
  {
   "cell_type": "code",
   "execution_count": 25,
   "metadata": {
    "ExecuteTime": {
     "end_time": "2020-08-26T21:54:24.717377Z",
     "start_time": "2020-08-26T21:54:24.697180Z"
    }
   },
   "outputs": [
    {
     "name": "stdout",
     "output_type": "stream",
     "text": [
      "Welcome pythonista\n"
     ]
    }
   ],
   "source": [
    "print(\"Welcome pythonista\")"
   ]
  },
  {
   "cell_type": "markdown",
   "metadata": {},
   "source": [
    "## Printing the Data type"
   ]
  },
  {
   "cell_type": "code",
   "execution_count": 26,
   "metadata": {
    "ExecuteTime": {
     "end_time": "2020-08-26T21:54:25.217145Z",
     "start_time": "2020-08-26T21:54:25.188120Z"
    }
   },
   "outputs": [
    {
     "name": "stdout",
     "output_type": "stream",
     "text": [
      "<class 'int'>\n",
      "<class 'float'>\n",
      "<class 'complex'>\n",
      "------------------------------------------------------------------------------------------------\n",
      "<class 'str'>\n",
      "------------------------------------------------------------------------------------------------\n",
      "Hello everything\n",
      "------------------------------------------------------------------------------------------------\n",
      "<class 'list'>\n",
      "------------------------------------------------------------------------------------------------\n",
      "<class 'dict'>\n",
      "------------------------------------------------------------------------------------------------\n",
      "<class 'bool'>\n",
      "<class 'tuple'>\n",
      "<class 'set'>\n"
     ]
    }
   ],
   "source": [
    "#Numbers\n",
    "print(type(10))                           # Int\n",
    "print(type(3.14))                         # Float\n",
    "print(type(1 + 3j))                       # Complex\n",
    "print('-'*96)\n",
    "#String \n",
    "\n",
    "print(type('Hello everything'))           # String\n",
    "print('-'*96)\n",
    "\n",
    "#printing\n",
    "\n",
    "print(\"Hello everything\")                   \n",
    "print('-'*96)\n",
    "\n",
    "#List\n",
    "print(type([1, 2, 3]))                    # List\n",
    "print('-'*96)\n",
    "\n",
    "#Dictionary\n",
    "print(type({'name':'Omega'}))          # Dictionary\n",
    "print('-'*96)\n",
    "\n",
    "#Booleans\n",
    "print(type(True))\n",
    "\n",
    "#Tuple\n",
    "print(type((9.81, 3.14, 2.7, 'Alpha')))    # Tuple\n",
    "\n",
    "#Set\n",
    "print(type(set({1,2,3,3})))"
   ]
  },
  {
   "cell_type": "markdown",
   "metadata": {},
   "source": [
    "## Numbers\n",
    "\n",
    "There are three numeric types in Python:\n",
    "\n",
    "`int` - Int, or integer, is a whole number, positive or negative, without decimals, of unlimited length. <br>\n",
    "`float` - Float, or \"floating point number\" is a number, positive or negative, containing one or more decimals. <br>\n",
    "`complex` - Complex numbers are written with a \"j\" as the imaginary part: <br>"
   ]
  },
  {
   "cell_type": "code",
   "execution_count": 27,
   "metadata": {
    "ExecuteTime": {
     "end_time": "2020-08-26T21:54:25.686017Z",
     "start_time": "2020-08-26T21:54:25.675264Z"
    }
   },
   "outputs": [
    {
     "name": "stdout",
     "output_type": "stream",
     "text": [
      "<class 'int'>\n",
      "<class 'float'>\n",
      "<class 'complex'>\n",
      "**************************************************************************************************************************\n",
      "10\n",
      "3.14\n",
      "(1+3j)\n"
     ]
    }
   ],
   "source": [
    "print(type(10))                           # Int\n",
    "print(type(3.14))                         # Float\n",
    "print(type(1 + 3j))                       # Complex\n",
    "\n",
    "print(\"*\"*122)\n",
    "print(10)                           # Int\n",
    "print(3.14)                         # Float\n",
    "print(1 + 3j)                       # Complex"
   ]
  },
  {
   "cell_type": "markdown",
   "metadata": {},
   "source": [
    "### Underscore in Numbers\n",
    "\n",
    "* can be useful if you have a large number."
   ]
  },
  {
   "cell_type": "code",
   "execution_count": 28,
   "metadata": {
    "ExecuteTime": {
     "end_time": "2020-08-26T21:54:26.168695Z",
     "start_time": "2020-08-26T21:54:26.159766Z"
    }
   },
   "outputs": [
    {
     "data": {
      "text/plain": [
       "14000000000"
      ]
     },
     "execution_count": 28,
     "metadata": {},
     "output_type": "execute_result"
    }
   ],
   "source": [
    "universe_age = 14_000_000_000\n",
    "universe_age"
   ]
  },
  {
   "cell_type": "markdown",
   "metadata": {},
   "source": [
    "## Strings\n",
    "\n",
    "* A string is a series of characters. Anything inside a single `' '` 'text' or double quotes `\" \"` \"text\" is considered a string in Python \n",
    "* Strings are used in Python to record text information, such as names. Strings in Python are actually a *sequence*, which basically means Python keeps track of every element in the string as a sequence. For example, Python understands the string \"hello' to be a sequence of letters in a specific order. \n"
   ]
  },
  {
   "cell_type": "code",
   "execution_count": 29,
   "metadata": {
    "ExecuteTime": {
     "end_time": "2020-08-26T21:54:26.649412Z",
     "start_time": "2020-08-26T21:54:26.630463Z"
    }
   },
   "outputs": [
    {
     "name": "stdout",
     "output_type": "stream",
     "text": [
      "Hello everything\n"
     ]
    }
   ],
   "source": [
    "print('Hello everything')"
   ]
  },
  {
   "cell_type": "code",
   "execution_count": 30,
   "metadata": {
    "ExecuteTime": {
     "end_time": "2020-08-26T21:54:26.884781Z",
     "start_time": "2020-08-26T21:54:26.873815Z"
    }
   },
   "outputs": [
    {
     "data": {
      "text/plain": [
       "'single quotes'"
      ]
     },
     "execution_count": 30,
     "metadata": {},
     "output_type": "execute_result"
    }
   ],
   "source": [
    "'single quotes'"
   ]
  },
  {
   "cell_type": "code",
   "execution_count": 31,
   "metadata": {
    "ExecuteTime": {
     "end_time": "2020-08-26T21:54:27.102198Z",
     "start_time": "2020-08-26T21:54:27.095854Z"
    }
   },
   "outputs": [
    {
     "data": {
      "text/plain": [
       "'double quotes'"
      ]
     },
     "execution_count": 31,
     "metadata": {},
     "output_type": "execute_result"
    }
   ],
   "source": [
    "\"double quotes\""
   ]
  },
  {
   "cell_type": "code",
   "execution_count": 32,
   "metadata": {
    "ExecuteTime": {
     "end_time": "2020-08-26T21:54:27.350536Z",
     "start_time": "2020-08-26T21:54:27.336573Z"
    }
   },
   "outputs": [
    {
     "name": "stdout",
     "output_type": "stream",
     "text": [
      "\n",
      "we are all beginners at some point,\n",
      "begin again\n",
      "\n",
      "\n"
     ]
    }
   ],
   "source": [
    "print(\"\"\"\n",
    "we are all beginners at some point,\n",
    "begin again\n",
    "\n",
    "\"\"\")"
   ]
  },
  {
   "cell_type": "code",
   "execution_count": 33,
   "metadata": {
    "ExecuteTime": {
     "end_time": "2020-08-26T21:54:27.598872Z",
     "start_time": "2020-08-26T21:54:27.580043Z"
    }
   },
   "outputs": [
    {
     "data": {
      "text/plain": [
       "'H'"
      ]
     },
     "execution_count": 33,
     "metadata": {},
     "output_type": "execute_result"
    }
   ],
   "source": [
    "# Show first element (in this case a letter)\n",
    "# Assign s as a string\n",
    "s = 'Hello World'\n",
    "s[0]"
   ]
  },
  {
   "cell_type": "markdown",
   "metadata": {},
   "source": [
    "We can use a <code>:</code> to perform *slicing* which grabs everything up to a designated point. For example:"
   ]
  },
  {
   "cell_type": "code",
   "execution_count": 34,
   "metadata": {
    "ExecuteTime": {
     "end_time": "2020-08-26T21:54:28.113134Z",
     "start_time": "2020-08-26T21:54:28.094188Z"
    }
   },
   "outputs": [
    {
     "data": {
      "text/plain": [
       "'ello World'"
      ]
     },
     "execution_count": 34,
     "metadata": {},
     "output_type": "execute_result"
    }
   ],
   "source": [
    "# Grab everything past the first term all the way to the length of s which is len(s)\n",
    "s[1:]"
   ]
  },
  {
   "cell_type": "code",
   "execution_count": 35,
   "metadata": {
    "ExecuteTime": {
     "end_time": "2020-08-26T21:54:28.332547Z",
     "start_time": "2020-08-26T21:54:28.326564Z"
    }
   },
   "outputs": [
    {
     "data": {
      "text/plain": [
       "'Hel'"
      ]
     },
     "execution_count": 35,
     "metadata": {},
     "output_type": "execute_result"
    }
   ],
   "source": [
    "# Grab everything UP TO the 3rd index\n",
    "s[:3]"
   ]
  },
  {
   "cell_type": "code",
   "execution_count": 36,
   "metadata": {
    "ExecuteTime": {
     "end_time": "2020-08-26T21:54:28.581884Z",
     "start_time": "2020-08-26T21:54:28.565927Z"
    }
   },
   "outputs": [
    {
     "data": {
      "text/plain": [
       "'d'"
      ]
     },
     "execution_count": 36,
     "metadata": {},
     "output_type": "execute_result"
    }
   ],
   "source": [
    "# Last letter (one index behind 0 so it loops back around)\n",
    "s[-1]"
   ]
  },
  {
   "cell_type": "code",
   "execution_count": 37,
   "metadata": {
    "ExecuteTime": {
     "end_time": "2020-08-26T21:54:28.813295Z",
     "start_time": "2020-08-26T21:54:28.796934Z"
    }
   },
   "outputs": [
    {
     "data": {
      "text/plain": [
       "'Hello World concatenate me!'"
      ]
     },
     "execution_count": 37,
     "metadata": {},
     "output_type": "execute_result"
    }
   ],
   "source": [
    "# Concatenate strings!\n",
    "s + ' concatenate me!'"
   ]
  },
  {
   "cell_type": "markdown",
   "metadata": {},
   "source": [
    "### string format"
   ]
  },
  {
   "cell_type": "markdown",
   "metadata": {
    "ExecuteTime": {
     "end_time": "2020-07-28T08:31:34.962080Z",
     "start_time": "2020-07-28T08:31:34.957093Z"
    }
   },
   "source": [
    "####  %-formatting old format"
   ]
  },
  {
   "cell_type": "code",
   "execution_count": 38,
   "metadata": {
    "ExecuteTime": {
     "end_time": "2020-08-26T21:54:29.518734Z",
     "start_time": "2020-08-26T21:54:29.510889Z"
    }
   },
   "outputs": [
    {
     "name": "stdout",
     "output_type": "stream",
     "text": [
      "Hello, Tony. You are 48.\n"
     ]
    }
   ],
   "source": [
    "name = \"Tony\"\n",
    "age = 48\n",
    "\n",
    "print(\"Hello, %s. You are %s.\" % (name, age))"
   ]
  },
  {
   "cell_type": "markdown",
   "metadata": {},
   "source": [
    "####  str.format()"
   ]
  },
  {
   "cell_type": "code",
   "execution_count": 39,
   "metadata": {
    "ExecuteTime": {
     "end_time": "2020-08-26T21:54:30.017570Z",
     "start_time": "2020-08-26T21:54:29.998620Z"
    }
   },
   "outputs": [
    {
     "name": "stdout",
     "output_type": "stream",
     "text": [
      "Hello, Tony. You are 48.\n"
     ]
    }
   ],
   "source": [
    "print(\"Hello, {}. You are {}.\".format(name, age))"
   ]
  },
  {
   "cell_type": "markdown",
   "metadata": {},
   "source": [
    "#### f-string is the best because it's flexible and versatile"
   ]
  },
  {
   "cell_type": "code",
   "execution_count": 40,
   "metadata": {
    "ExecuteTime": {
     "end_time": "2020-08-26T21:54:30.454370Z",
     "start_time": "2020-08-26T21:54:30.447419Z"
    }
   },
   "outputs": [
    {
     "name": "stdout",
     "output_type": "stream",
     "text": [
      "Hello, Tony. You are 48.\n"
     ]
    }
   ],
   "source": [
    "print(f\"Hello, {name}. You are {age}.\")"
   ]
  },
  {
   "cell_type": "markdown",
   "metadata": {},
   "source": [
    "Where with the `.format()` method you might see `{value:10.4f}`, with f-strings this can become `{value:{10}.{6}}`"
   ]
  },
  {
   "cell_type": "code",
   "execution_count": 41,
   "metadata": {
    "ExecuteTime": {
     "end_time": "2020-08-26T21:54:30.907280Z",
     "start_time": "2020-08-26T21:54:30.894192Z"
    }
   },
   "outputs": [
    {
     "name": "stdout",
     "output_type": "stream",
     "text": [
      "My 10 character, four decimal number is:   23.4568\n",
      "My 10 character, four decimal number is:   23.4568\n"
     ]
    }
   ],
   "source": [
    "num = 23.45678\n",
    "print(\"My 10 character, four decimal number is:{0:10.4f}\".format(num))\n",
    "print(f\"My 10 character, four decimal number is:{num:{10}.{6}}\")"
   ]
  },
  {
   "cell_type": "markdown",
   "metadata": {},
   "source": [
    "### Python String Methods\n",
    "Source: https://www.w3schools.com/python/python_ref_string.asp\n",
    "\n",
    "<table class=\"table table-bordered\">\n",
    "<tr>\n",
    "<th style=\"width:10%\">Method</th><th style=\"width:45%\">Description</th>\n",
    "</tr>\n",
    "<tr>\n",
    "<td>capitalize()</td>\n",
    "<td>Converts the first character to upper case</td>\n",
    "</tr>\n",
    "<tr>\n",
    "<td>casefold()</td>\t\n",
    "<td>Converts string into lower case </td>\n",
    "</tr>\n",
    "<tr>\n",
    "<td>center()</td>\t\n",
    "<td>Returns a centered string </td>\n",
    "</tr>\n",
    "<tr>\n",
    "<td>count()</td>\n",
    "<td>Returns the number of times a specified value occurs in a string</td>\n",
    "</tr>\n",
    "<tr>\n",
    "<td>encode()</td>\n",
    "<td>Returns an encoded version of the string </td>\n",
    "</tr>\n",
    "<tr>\n",
    "<td>endswith()</td>\n",
    "<td>Returns true if the string ends with the specified value </td>\n",
    "</tr>\n",
    "<tr>\n",
    "<td>expandtabs()</td>\n",
    "<td>Sets the tab size of the string </td>\n",
    "</tr>\n",
    "<tr>\n",
    "<td>find()</td>\n",
    "<td>Searches the string for a specified value and returns the position of where it was found </td>\n",
    "</tr>\n",
    "<tr>\n",
    "<td>format()</td>\n",
    "<td>Formats specified values in a string </td>\n",
    "</tr>\n",
    "<tr>\n",
    "<td>format_map()</td>\n",
    "<td>Formats specified values in a string </td>\n",
    "</tr>\n",
    "<tr>\n",
    "<td>index()</td>\n",
    "<td>Searches the string for a specified value and returns the position of where it was found </td>\n",
    "</tr>\n",
    "<tr>    \n",
    "<td>isalnum()</td>\n",
    "<td>Returns True if all characters in the string are alphanumeric </td>\n",
    "</tr>\n",
    "<tr>\n",
    "<td>isalpha()</td>\n",
    "<td>Returns True if all characters in the string are in the alphabet </td>\n",
    "</tr>\n",
    "<tr>\n",
    "<td>isdecimal()</td>\n",
    "<td>Returns True if all characters in the string are decimals </td>\n",
    "</tr>\n",
    "<tr>\n",
    "<td>isdigit()</td>\n",
    "<td>Returns True if all characters in the string are digits </td>\n",
    "</tr>\n",
    "<tr>\n",
    "<td>isidentifier()</td>\n",
    "<td>Returns True if the string is an identifier </td>\n",
    "</tr>\n",
    "<tr>\n",
    "<td>islower()</td>\n",
    "<td>Returns True if all characters in the string are lower case </td>\n",
    "</tr>\n",
    "<tr>\n",
    "<td>isnumeric()</td>\n",
    "<td>Returns True if all characters in the string are numeric </td>\n",
    "</tr>\n",
    "<tr>\n",
    "<td>isprintable()</td>\n",
    "<td>Returns True if all characters in the string are printable </td>\n",
    "</tr>\n",
    "<tr>\n",
    "<td>isspace()</td>\n",
    "<td>Returns True if all characters in the string are whitespaces </td>\n",
    "</tr>\n",
    "<tr>\n",
    "<td>istitle()</td>\n",
    "<td>Returns True if the string follows the rules of a title </td>\n",
    "</tr>\n",
    "<tr>\n",
    "<td>isupper()</td>\n",
    "<td>Returns True if all characters in the string are upper case </td>\n",
    "</tr>\n",
    "<tr>\n",
    "<td>join()</td>\n",
    "<td>Joins the elements of an iterable to the end of the string</td>\n",
    "</tr>\n",
    "<tr>\n",
    "<td>ljust()</td>\n",
    "<td>Returns a left justified version of the string</td>\n",
    "</tr>\n",
    "<tr>\n",
    "<td>lower()</td>\n",
    "<td>Converts a string into lower case </td>\n",
    "</tr>\n",
    "<tr>\n",
    "<td>lstrip()</td>\n",
    "<td>Returns a left trim version of the string </td>\n",
    "</tr>\n",
    "<tr>\n",
    "<td>maketrans()</td>\n",
    "<td>Returns a translation table to be used in translations</td>\n",
    "</tr>\n",
    "<tr>\n",
    "<td>partition()</td>\n",
    "<td>Returns a tuple where the string is parted into three parts </td>\n",
    "</tr>\n",
    "<tr>\n",
    "<td>replace()</td>\n",
    "<td>Returns a string where a specified value is replaced with a specified value</td>\n",
    "</tr>\n",
    "<tr>\n",
    "<td>rfind()</td>\n",
    "<td>Searches the string for a specified value and returns the last position of where it was found</td>\n",
    "</tr>\n",
    "<tr>\n",
    "<td>rindex()</td>\n",
    "<td>Searches the string for a specified value and returns the last position of where it was found </td>\n",
    "</tr>\n",
    "<tr>\n",
    "<td>rjust()</td>\n",
    "<td>Returns a right justified version of the string </td>\n",
    "</tr>\n",
    "<tr>    \n",
    "<td>rpartition()</td>\n",
    "<td>Returns a tuple where the string is parted into three parts </td>\n",
    "</tr>\n",
    "<tr>\n",
    "<td>rsplit()</td>\n",
    "<td>Splits the string at the specified separator, and returns a list </td>\n",
    "</tr>\n",
    "<tr>\n",
    "<td>rstrip()</td>\n",
    "<td>Returns a right trim version of the string </td>\n",
    "</tr>\n",
    "<tr>\n",
    "<td>split()\t</td>\n",
    "<td>Splits the string at the specified separator, and returns a list </td>\n",
    "</tr>\n",
    "<tr>\n",
    "<td>splitlines()</td>\n",
    "<td>Splits the string at line breaks and returns a list </td> \n",
    "</tr>\n",
    "<tr>\n",
    "<td>startswith()</td>\n",
    "<td>Returns true if the string starts with the specified value </td>\n",
    "</tr>\n",
    "<tr>\n",
    "<td>strip()</td>\n",
    "<td>Returns a trimmed version of the string </td>\n",
    "</tr>\n",
    "<tr>\n",
    "<td>swapcase()</td>\n",
    "<td>Swaps cases, lower case becomes upper case and vice versa</td>\n",
    "</tr>\n",
    "<tr>\n",
    "<td>title()\t</td>\n",
    "<td>Converts the first character of each word to upper case </td>\n",
    "</tr>\n",
    "<tr>\n",
    "<td>translate()</td>\n",
    "<td>Returns a translated string</td>\n",
    "</tr>\n",
    "<tr>\n",
    "<td>upper()</td>\n",
    "<td>Converts a string into upper case </td>\n",
    "</tr>\n",
    "<tr>\n",
    "<td>zfill()</td>\n",
    "<td>Fills the string with a specified number of 0 values at the beginning </td>\n",
    "</tr>\n",
    "<tr>"
   ]
  },
  {
   "cell_type": "markdown",
   "metadata": {},
   "source": [
    "## List\n",
    "\n",
    "* Lists are ordered collections of values. Examples: [1, 2, 3, 4], [7.5, 9.0, 2]\n",
    "\n",
    "* Values in the lists are called elements\n",
    "\n",
    "* Strings are actually lists of character elements! Examples: 'This class is about Python.' (Note that the space is considered a character.)\n",
    "\n",
    "* Lists can contain any types of values, including numbers, strings or even another list.\n",
    "\n",
    "* In python, square bracket `[]` indicate a list, and indivual elements in the list are seperated by `,` commas.\n"
   ]
  },
  {
   "cell_type": "markdown",
   "metadata": {},
   "source": [
    "### creating a nested list\n"
   ]
  },
  {
   "cell_type": "code",
   "execution_count": 42,
   "metadata": {
    "ExecuteTime": {
     "end_time": "2020-08-26T21:54:32.996443Z",
     "start_time": "2020-08-26T21:54:32.991458Z"
    }
   },
   "outputs": [],
   "source": [
    "#nested list with a list on the 2nd element\n",
    "my_list =['Hello everything',4,[1,2]]"
   ]
  },
  {
   "cell_type": "markdown",
   "metadata": {},
   "source": [
    "### checking the type"
   ]
  },
  {
   "cell_type": "code",
   "execution_count": 43,
   "metadata": {
    "ExecuteTime": {
     "end_time": "2020-08-26T21:54:34.478208Z",
     "start_time": "2020-08-26T21:54:34.466240Z"
    }
   },
   "outputs": [
    {
     "data": {
      "text/plain": [
       "list"
      ]
     },
     "execution_count": 43,
     "metadata": {},
     "output_type": "execute_result"
    }
   ],
   "source": [
    "type(['Hello everything',4,[1,2]])"
   ]
  },
  {
   "cell_type": "markdown",
   "metadata": {},
   "source": [
    "### printing the list"
   ]
  },
  {
   "cell_type": "code",
   "execution_count": 44,
   "metadata": {
    "ExecuteTime": {
     "end_time": "2020-08-26T21:54:35.370166Z",
     "start_time": "2020-08-26T21:54:35.365207Z"
    }
   },
   "outputs": [
    {
     "name": "stdout",
     "output_type": "stream",
     "text": [
      "['Hello everything', 4, [1, 2]]\n"
     ]
    }
   ],
   "source": [
    "#printing the list\n",
    "print(my_list)"
   ]
  },
  {
   "cell_type": "markdown",
   "metadata": {},
   "source": [
    "###  indexing list\n",
    "Index positions start at 0, not 1"
   ]
  },
  {
   "cell_type": "code",
   "execution_count": 45,
   "metadata": {
    "ExecuteTime": {
     "end_time": "2020-08-26T21:54:36.226550Z",
     "start_time": "2020-08-26T21:54:36.205611Z"
    }
   },
   "outputs": [
    {
     "data": {
      "text/plain": [
       "'Hello everything'"
      ]
     },
     "execution_count": 45,
     "metadata": {},
     "output_type": "execute_result"
    }
   ],
   "source": [
    "my_list[0]"
   ]
  },
  {
   "cell_type": "code",
   "execution_count": 46,
   "metadata": {
    "ExecuteTime": {
     "end_time": "2020-08-26T21:54:36.599428Z",
     "start_time": "2020-08-26T21:54:36.591140Z"
    }
   },
   "outputs": [
    {
     "data": {
      "text/plain": [
       "[1, 2]"
      ]
     },
     "execution_count": 46,
     "metadata": {},
     "output_type": "execute_result"
    }
   ],
   "source": [
    "my_list[-1]"
   ]
  },
  {
   "cell_type": "markdown",
   "metadata": {},
   "source": [
    "### slicing the list"
   ]
  },
  {
   "cell_type": "code",
   "execution_count": 47,
   "metadata": {
    "ExecuteTime": {
     "end_time": "2020-08-26T21:54:37.205776Z",
     "start_time": "2020-08-26T21:54:37.190817Z"
    }
   },
   "outputs": [
    {
     "data": {
      "text/plain": [
       "[4, [1, 2]]"
      ]
     },
     "execution_count": 47,
     "metadata": {},
     "output_type": "execute_result"
    }
   ],
   "source": [
    "my_list[1:]"
   ]
  },
  {
   "cell_type": "markdown",
   "metadata": {},
   "source": [
    "### replacing an item in the list"
   ]
  },
  {
   "cell_type": "code",
   "execution_count": 48,
   "metadata": {
    "ExecuteTime": {
     "end_time": "2020-08-26T21:54:38.126820Z",
     "start_time": "2020-08-26T21:54:38.114736Z"
    }
   },
   "outputs": [],
   "source": [
    "my_list[0] = 'new' #replace Hello everything"
   ]
  },
  {
   "cell_type": "code",
   "execution_count": 49,
   "metadata": {
    "ExecuteTime": {
     "end_time": "2020-08-26T21:54:38.626366Z",
     "start_time": "2020-08-26T21:54:38.614398Z"
    }
   },
   "outputs": [
    {
     "data": {
      "text/plain": [
       "['new', 4, [1, 2]]"
      ]
     },
     "execution_count": 49,
     "metadata": {},
     "output_type": "execute_result"
    }
   ],
   "source": [
    "my_list"
   ]
  },
  {
   "cell_type": "markdown",
   "metadata": {},
   "source": [
    "## List Comprehensions\n",
    "\n",
    "\n",
    "\n",
    "\n"
   ]
  },
  {
   "cell_type": "markdown",
   "metadata": {
    "ExecuteTime": {
     "end_time": "2020-08-22T12:40:11.961819Z",
     "start_time": "2020-08-22T12:40:11.895902Z"
    }
   },
   "source": [
    "### Basic structure of a list comprehension\n",
    "\n",
    "`example syntax:`\n",
    "```python\n",
    "[function(item) for item in list]\n",
    "```\n",
    "\n",
    "Item is often called the iterator of the list comprehension\n",
    "\n",
    "List comprehensions are simply a way to compress a list-building for-loop into a single short, readable line. For example, here is a loop that constructs a list of the first 12 square integers:"
   ]
  },
  {
   "cell_type": "code",
   "execution_count": 107,
   "metadata": {
    "ExecuteTime": {
     "end_time": "2020-08-26T22:29:51.436119Z",
     "start_time": "2020-08-26T22:29:51.418138Z"
    }
   },
   "outputs": [
    {
     "data": {
      "text/plain": [
       "[0, 1, 4, 9, 16, 25, 36, 49, 64, 81, 100, 121]"
      ]
     },
     "execution_count": 107,
     "metadata": {},
     "output_type": "execute_result"
    }
   ],
   "source": [
    "raise_two = [] #creating a empthy list\n",
    "for num in range(12): #using a for loop you can check for loop section\n",
    "    raise_two.append(num ** 2)\n",
    "raise_two\n"
   ]
  },
  {
   "cell_type": "code",
   "execution_count": 52,
   "metadata": {
    "ExecuteTime": {
     "end_time": "2020-08-26T21:54:41.776357Z",
     "start_time": "2020-08-26T21:54:41.764390Z"
    }
   },
   "outputs": [
    {
     "data": {
      "text/plain": [
       "[0, 1, 4, 9, 16, 25, 36, 49, 64, 81, 100, 121]"
      ]
     },
     "execution_count": 52,
     "metadata": {},
     "output_type": "execute_result"
    }
   ],
   "source": [
    "[num ** 2 for num in range(12)] #list comprehension\n"
   ]
  },
  {
   "cell_type": "markdown",
   "metadata": {},
   "source": [
    "### Multiple Iteration\n"
   ]
  },
  {
   "cell_type": "markdown",
   "metadata": {},
   "source": [
    "```python\n",
    "[function(item1,item2) for item1 in list1 for item2 in list2]\n",
    "```"
   ]
  },
  {
   "cell_type": "code",
   "execution_count": 53,
   "metadata": {
    "ExecuteTime": {
     "end_time": "2020-08-26T21:54:42.980662Z",
     "start_time": "2020-08-26T21:54:42.971007Z"
    }
   },
   "outputs": [
    {
     "data": {
      "text/plain": [
       "[(0, 0), (0, 1), (0, 2), (1, 0), (1, 1), (1, 2)]"
      ]
     },
     "execution_count": 53,
     "metadata": {},
     "output_type": "execute_result"
    }
   ],
   "source": [
    "a=[]  #creating a empthy list\n",
    "for i in range(2): #multiply for loop\n",
    "    for j in range(3):\n",
    "     a.append((i,j))\n",
    "a\n"
   ]
  },
  {
   "cell_type": "code",
   "execution_count": 54,
   "metadata": {
    "ExecuteTime": {
     "end_time": "2020-08-26T21:54:43.494245Z",
     "start_time": "2020-08-26T21:54:43.481171Z"
    }
   },
   "outputs": [
    {
     "data": {
      "text/plain": [
       "[(0, 0), (0, 1), (0, 2), (1, 0), (1, 1), (1, 2)]"
      ]
     },
     "execution_count": 54,
     "metadata": {},
     "output_type": "execute_result"
    }
   ],
   "source": [
    "[(i, j) for i in range(2) for j in range(3)]\n"
   ]
  },
  {
   "cell_type": "markdown",
   "metadata": {},
   "source": [
    "### Conditionals on the Iterator"
   ]
  },
  {
   "cell_type": "markdown",
   "metadata": {},
   "source": [
    "``` python\n",
    "[item for item in list if condition(item)]\n",
    "```"
   ]
  },
  {
   "cell_type": "code",
   "execution_count": 55,
   "metadata": {
    "ExecuteTime": {
     "end_time": "2020-08-26T21:54:44.883209Z",
     "start_time": "2020-08-26T21:54:44.861960Z"
    }
   },
   "outputs": [
    {
     "data": {
      "text/plain": [
       "[1, 2, 4, 5, 7, 8, 10, 11, 13, 14, 16, 17, 19]"
      ]
     },
     "execution_count": 55,
     "metadata": {},
     "output_type": "execute_result"
    }
   ],
   "source": [
    "x = []\n",
    "for val in range(20):\n",
    "    if val % 3:\n",
    "        x.append(val)\n",
    "x\n"
   ]
  },
  {
   "cell_type": "code",
   "execution_count": 56,
   "metadata": {
    "ExecuteTime": {
     "end_time": "2020-08-26T21:54:45.459629Z",
     "start_time": "2020-08-26T21:54:45.452649Z"
    }
   },
   "outputs": [
    {
     "data": {
      "text/plain": [
       "[1, 2, 4, 5, 7, 8, 10, 11, 13, 14, 16, 17, 19]"
      ]
     },
     "execution_count": 56,
     "metadata": {},
     "output_type": "execute_result"
    }
   ],
   "source": [
    "[val for val in range(20) if val % 3 > 0]"
   ]
  },
  {
   "cell_type": "markdown",
   "metadata": {},
   "source": [
    "### Conditionals on the Value"
   ]
  },
  {
   "cell_type": "markdown",
   "metadata": {},
   "source": [
    "\n",
    "```python\n",
    "[function1(item) if conditional(item) else function2(item) for item in list]\n",
    "```"
   ]
  },
  {
   "cell_type": "code",
   "execution_count": 57,
   "metadata": {
    "ExecuteTime": {
     "end_time": "2020-08-26T21:54:47.625947Z",
     "start_time": "2020-08-26T21:54:47.603890Z"
    }
   },
   "outputs": [
    {
     "data": {
      "text/plain": [
       "[1,\n",
       " 'skipped',\n",
       " 'skipped',\n",
       " 5,\n",
       " 7,\n",
       " 'skipped',\n",
       " 'skipped',\n",
       " 11,\n",
       " 13,\n",
       " 'skipped',\n",
       " 'skipped',\n",
       " 17,\n",
       " 19]"
      ]
     },
     "execution_count": 57,
     "metadata": {},
     "output_type": "execute_result"
    }
   ],
   "source": [
    "[val if val % 2 else 'skipped' for val in range(20) if val % 3]"
   ]
  },
  {
   "cell_type": "markdown",
   "metadata": {},
   "source": [
    "# Dictionaries"
   ]
  },
  {
   "cell_type": "markdown",
   "metadata": {},
   "source": [
    "* A dictionary in python is a colleciton of `key-value pairs`. Each `key` is connected to a value, and you can use a key to access the value associated with that key.\n",
    "* A key's value can be a number, a string, a list, or even another dictionary.\n",
    "* dictionary is wrapped in braces `{}`."
   ]
  },
  {
   "cell_type": "code",
   "execution_count": 58,
   "metadata": {
    "ExecuteTime": {
     "end_time": "2020-08-26T21:54:49.066570Z",
     "start_time": "2020-08-26T21:54:49.051577Z"
    }
   },
   "outputs": [],
   "source": [
    "# Make a dictionary with {} and : to signify a key and a value\n",
    "my_dict = {'key1':'value1','key2':'value2'}"
   ]
  },
  {
   "cell_type": "code",
   "execution_count": 59,
   "metadata": {
    "ExecuteTime": {
     "end_time": "2020-08-26T21:54:49.485920Z",
     "start_time": "2020-08-26T21:54:49.472922Z"
    }
   },
   "outputs": [
    {
     "data": {
      "text/plain": [
       "'value2'"
      ]
     },
     "execution_count": 59,
     "metadata": {},
     "output_type": "execute_result"
    }
   ],
   "source": [
    "# Call values by their key\n",
    "my_dict['key2']"
   ]
  },
  {
   "cell_type": "code",
   "execution_count": 60,
   "metadata": {
    "ExecuteTime": {
     "end_time": "2020-08-26T21:54:49.812637Z",
     "start_time": "2020-08-26T21:54:49.801162Z"
    }
   },
   "outputs": [],
   "source": [
    "my_dict = {'key1':123,'key2':[12,23,33],'key3':['item0','item1','item2']}"
   ]
  },
  {
   "cell_type": "code",
   "execution_count": 61,
   "metadata": {
    "ExecuteTime": {
     "end_time": "2020-08-26T21:54:50.217084Z",
     "start_time": "2020-08-26T21:54:50.200684Z"
    }
   },
   "outputs": [
    {
     "data": {
      "text/plain": [
       "['item0', 'item1', 'item2']"
      ]
     },
     "execution_count": 61,
     "metadata": {},
     "output_type": "execute_result"
    }
   ],
   "source": [
    "# Let's call items from the dictionary\n",
    "my_dict['key3']"
   ]
  },
  {
   "cell_type": "code",
   "execution_count": 62,
   "metadata": {
    "ExecuteTime": {
     "end_time": "2020-08-26T21:54:50.700121Z",
     "start_time": "2020-08-26T21:54:50.689125Z"
    }
   },
   "outputs": [
    {
     "data": {
      "text/plain": [
       "'item0'"
      ]
     },
     "execution_count": 62,
     "metadata": {},
     "output_type": "execute_result"
    }
   ],
   "source": [
    "# Can call an index on that value\n",
    "my_dict['key3'][0]"
   ]
  },
  {
   "cell_type": "code",
   "execution_count": 66,
   "metadata": {
    "ExecuteTime": {
     "end_time": "2020-08-26T21:54:58.579225Z",
     "start_time": "2020-08-26T21:54:58.568074Z"
    }
   },
   "outputs": [],
   "source": [
    "# Create a typical dictionary\n",
    "d = {'key1':1,'key2':2,'key3':3}"
   ]
  },
  {
   "cell_type": "code",
   "execution_count": 67,
   "metadata": {
    "ExecuteTime": {
     "end_time": "2020-08-26T21:54:58.829734Z",
     "start_time": "2020-08-26T21:54:58.810752Z"
    }
   },
   "outputs": [
    {
     "data": {
      "text/plain": [
       "dict_keys(['key1', 'key2', 'key3'])"
      ]
     },
     "execution_count": 67,
     "metadata": {},
     "output_type": "execute_result"
    }
   ],
   "source": [
    "# Method to return a list of all keys \n",
    "d.keys()"
   ]
  },
  {
   "cell_type": "code",
   "execution_count": 68,
   "metadata": {
    "ExecuteTime": {
     "end_time": "2020-08-26T21:54:59.061354Z",
     "start_time": "2020-08-26T21:54:59.049442Z"
    }
   },
   "outputs": [
    {
     "data": {
      "text/plain": [
       "dict_values([1, 2, 3])"
      ]
     },
     "execution_count": 68,
     "metadata": {},
     "output_type": "execute_result"
    }
   ],
   "source": [
    "# Method to grab all values\n",
    "d.values()"
   ]
  },
  {
   "cell_type": "code",
   "execution_count": 69,
   "metadata": {
    "ExecuteTime": {
     "end_time": "2020-08-26T21:54:59.280891Z",
     "start_time": "2020-08-26T21:54:59.270279Z"
    }
   },
   "outputs": [
    {
     "data": {
      "text/plain": [
       "dict_items([('key1', 1), ('key2', 2), ('key3', 3)])"
      ]
     },
     "execution_count": 69,
     "metadata": {},
     "output_type": "execute_result"
    }
   ],
   "source": [
    "# Method to return tuples of all items  (we'll learn about tuples soon)\n",
    "d.items()"
   ]
  },
  {
   "cell_type": "markdown",
   "metadata": {},
   "source": [
    "# Operators\n"
   ]
  },
  {
   "cell_type": "markdown",
   "metadata": {
    "ExecuteTime": {
     "end_time": "2020-07-28T06:50:45.540357Z",
     "start_time": "2020-07-28T06:50:45.534369Z"
    }
   },
   "source": [
    "Arithmetic Operators (+, -, *, /, //, %, **) <br>\n",
    "Bitwise Operators (&, |, ^, >>, <<, ~) <br>\n",
    "Assignment Operators (=, +=, -=, /=, //= etc.) <br>\n",
    "Comparison Operator (==, !=, >, <, >=, <=) <br>\n",
    "Logical Operators (and, or, not) <br>\n",
    "Identity Operators (is, is not) <br>\n",
    "Membership Operators (in, not in) <br>"
   ]
  },
  {
   "cell_type": "markdown",
   "metadata": {
    "ExecuteTime": {
     "end_time": "2020-07-28T06:59:26.341103Z",
     "start_time": "2020-07-28T06:59:26.333154Z"
    }
   },
   "source": [
    "- The Boolean type refers to one of the truth values **`True`** or **`False`**.\n",
    "- There are built-in operators and functions that return booleans:\n",
    " - Arithmetic comparison operators: \n",
    "  - `==` - equal to\n",
    "  - `!=` - not equal to\n",
    "  - `>`  - greater than\n",
    "  - `<`  - less than\n",
    "  - `>=` - greater than or equal to\n",
    "  - `<=` - less than or equal to"
   ]
  },
  {
   "cell_type": "markdown",
   "metadata": {},
   "source": [
    "<h2> Table of Comparison Operators </h2><p>  In the table below, a=4 and b=6.</p>\n",
    "\n",
    "<table class=\"table table-bordered\">\n",
    "<tr>\n",
    "<th style=\"width:10%\">Operator</th><th style=\"width:45%\">Description</th><th>Example</th>\n",
    "</tr>\n",
    "<tr>\n",
    "<td>==</td>\n",
    "<td>If the values of two operands are equal, then the condition becomes true.</td>\n",
    "<td> (a == b) is not true.</td>\n",
    "</tr>\n",
    "<tr>\n",
    "<td>!=</td>\n",
    "<td>If values of two operands are not equal, then condition becomes true.</td>\n",
    "<td>(a != b) is true</td>\n",
    "</tr>\n",
    "<tr>\n",
    "<td>&gt;</td>\n",
    "<td>If the value of left operand is greater than the value of right operand, then condition becomes true.</td>\n",
    "<td> (a &gt; b) is not true.</td>\n",
    "</tr>\n",
    "<tr>\n",
    "<td>&lt;</td>\n",
    "<td>If the value of left operand is less than the value of right operand, then condition becomes true.</td>\n",
    "<td> (a &lt; b) is true.</td>\n",
    "</tr>\n",
    "<tr>\n",
    "<td>&gt;=</td>\n",
    "<td>If the value of left operand is greater than or equal to the value of right operand, then condition becomes true.</td>\n",
    "<td> (a &gt;= b) is not true. </td>\n",
    "</tr>\n",
    "<tr>\n",
    "<td>&lt;=</td>\n",
    "<td>If the value of left operand is less than or equal to the value of right operand, then condition becomes true.</td>\n",
    "<td> (a &lt;= b) is true. </td>\n",
    "</tr>\n",
    "</table>"
   ]
  },
  {
   "cell_type": "markdown",
   "metadata": {},
   "source": [
    "## `==` - equal to"
   ]
  },
  {
   "cell_type": "code",
   "execution_count": 70,
   "metadata": {
    "ExecuteTime": {
     "end_time": "2020-08-26T21:55:01.810631Z",
     "start_time": "2020-08-26T21:55:01.796581Z"
    }
   },
   "outputs": [
    {
     "data": {
      "text/plain": [
       "True"
      ]
     },
     "execution_count": 70,
     "metadata": {},
     "output_type": "execute_result"
    }
   ],
   "source": [
    "4 == 4"
   ]
  },
  {
   "cell_type": "code",
   "execution_count": 71,
   "metadata": {
    "ExecuteTime": {
     "end_time": "2020-08-26T21:55:02.355116Z",
     "start_time": "2020-08-26T21:55:02.345112Z"
    }
   },
   "outputs": [
    {
     "data": {
      "text/plain": [
       "False"
      ]
     },
     "execution_count": 71,
     "metadata": {},
     "output_type": "execute_result"
    }
   ],
   "source": [
    "8 == 9"
   ]
  },
  {
   "cell_type": "markdown",
   "metadata": {},
   "source": [
    "## `!=` - not equal to"
   ]
  },
  {
   "cell_type": "code",
   "execution_count": 72,
   "metadata": {
    "ExecuteTime": {
     "end_time": "2020-08-26T21:55:02.964454Z",
     "start_time": "2020-08-26T21:55:02.952488Z"
    }
   },
   "outputs": [
    {
     "data": {
      "text/plain": [
       "True"
      ]
     },
     "execution_count": 72,
     "metadata": {},
     "output_type": "execute_result"
    }
   ],
   "source": [
    "10 != 11"
   ]
  },
  {
   "cell_type": "markdown",
   "metadata": {},
   "source": [
    "##  `>`  - greater than"
   ]
  },
  {
   "cell_type": "code",
   "execution_count": 73,
   "metadata": {
    "ExecuteTime": {
     "end_time": "2020-08-26T21:55:03.584387Z",
     "start_time": "2020-08-26T21:55:03.568291Z"
    }
   },
   "outputs": [
    {
     "data": {
      "text/plain": [
       "True"
      ]
     },
     "execution_count": 73,
     "metadata": {},
     "output_type": "execute_result"
    }
   ],
   "source": [
    "6 >  3"
   ]
  },
  {
   "cell_type": "code",
   "execution_count": 74,
   "metadata": {
    "ExecuteTime": {
     "end_time": "2020-08-26T21:55:03.850594Z",
     "start_time": "2020-08-26T21:55:03.831218Z"
    }
   },
   "outputs": [
    {
     "data": {
      "text/plain": [
       "False"
      ]
     },
     "execution_count": 74,
     "metadata": {},
     "output_type": "execute_result"
    }
   ],
   "source": [
    "3 > 6"
   ]
  },
  {
   "cell_type": "markdown",
   "metadata": {},
   "source": [
    "## `<`  - less than"
   ]
  },
  {
   "cell_type": "code",
   "execution_count": 75,
   "metadata": {
    "ExecuteTime": {
     "end_time": "2020-08-26T21:55:04.408382Z",
     "start_time": "2020-08-26T21:55:04.396387Z"
    }
   },
   "outputs": [
    {
     "data": {
      "text/plain": [
       "True"
      ]
     },
     "execution_count": 75,
     "metadata": {},
     "output_type": "execute_result"
    }
   ],
   "source": [
    "2 < 4"
   ]
  },
  {
   "cell_type": "code",
   "execution_count": 76,
   "metadata": {
    "ExecuteTime": {
     "end_time": "2020-08-26T21:55:04.687977Z",
     "start_time": "2020-08-26T21:55:04.673397Z"
    }
   },
   "outputs": [
    {
     "data": {
      "text/plain": [
       "False"
      ]
     },
     "execution_count": 76,
     "metadata": {},
     "output_type": "execute_result"
    }
   ],
   "source": [
    "4 < 2"
   ]
  },
  {
   "cell_type": "markdown",
   "metadata": {},
   "source": [
    "## `>=` - greater than or equal to"
   ]
  },
  {
   "cell_type": "code",
   "execution_count": 77,
   "metadata": {
    "ExecuteTime": {
     "end_time": "2020-08-26T21:55:05.423828Z",
     "start_time": "2020-08-26T21:55:05.415995Z"
    }
   },
   "outputs": [
    {
     "data": {
      "text/plain": [
       "True"
      ]
     },
     "execution_count": 77,
     "metadata": {},
     "output_type": "execute_result"
    }
   ],
   "source": [
    "5 >= 5"
   ]
  },
  {
   "cell_type": "code",
   "execution_count": 78,
   "metadata": {
    "ExecuteTime": {
     "end_time": "2020-08-26T21:55:05.688369Z",
     "start_time": "2020-08-26T21:55:05.676948Z"
    }
   },
   "outputs": [
    {
     "data": {
      "text/plain": [
       "True"
      ]
     },
     "execution_count": 78,
     "metadata": {},
     "output_type": "execute_result"
    }
   ],
   "source": [
    "5 >= 4"
   ]
  },
  {
   "cell_type": "markdown",
   "metadata": {},
   "source": [
    "## `<=` - less than or equal to"
   ]
  },
  {
   "cell_type": "code",
   "execution_count": 79,
   "metadata": {
    "ExecuteTime": {
     "end_time": "2020-08-26T21:55:06.140188Z",
     "start_time": "2020-08-26T21:55:06.127235Z"
    }
   },
   "outputs": [
    {
     "data": {
      "text/plain": [
       "True"
      ]
     },
     "execution_count": 79,
     "metadata": {},
     "output_type": "execute_result"
    }
   ],
   "source": [
    "2 <= 2"
   ]
  },
  {
   "cell_type": "code",
   "execution_count": 80,
   "metadata": {
    "ExecuteTime": {
     "end_time": "2020-08-26T21:55:06.406449Z",
     "start_time": "2020-08-26T21:55:06.385538Z"
    }
   },
   "outputs": [
    {
     "data": {
      "text/plain": [
       "True"
      ]
     },
     "execution_count": 80,
     "metadata": {},
     "output_type": "execute_result"
    }
   ],
   "source": [
    "2 <= 4"
   ]
  },
  {
   "cell_type": "markdown",
   "metadata": {},
   "source": [
    "## Chained Comparison Operators"
   ]
  },
  {
   "cell_type": "code",
   "execution_count": 81,
   "metadata": {
    "ExecuteTime": {
     "end_time": "2020-08-26T21:55:06.889191Z",
     "start_time": "2020-08-26T21:55:06.869556Z"
    }
   },
   "outputs": [
    {
     "data": {
      "text/plain": [
       "True"
      ]
     },
     "execution_count": 81,
     "metadata": {},
     "output_type": "execute_result"
    }
   ],
   "source": [
    "1 < 2 < 3"
   ]
  },
  {
   "cell_type": "markdown",
   "metadata": {
    "ExecuteTime": {
     "end_time": "2020-08-24T13:45:24.728547Z",
     "start_time": "2020-08-24T13:45:24.709594Z"
    }
   },
   "source": [
    "### and "
   ]
  },
  {
   "cell_type": "markdown",
   "metadata": {},
   "source": [
    "The above statement checks if 1 was less than 2 **and** if 2 was less than 3. We could have written this using an **and** statement in Python:"
   ]
  },
  {
   "cell_type": "code",
   "execution_count": 82,
   "metadata": {
    "ExecuteTime": {
     "end_time": "2020-08-26T21:55:07.999078Z",
     "start_time": "2020-08-26T21:55:07.987141Z"
    }
   },
   "outputs": [
    {
     "data": {
      "text/plain": [
       "True"
      ]
     },
     "execution_count": 82,
     "metadata": {},
     "output_type": "execute_result"
    }
   ],
   "source": [
    "1<2 and 2<3"
   ]
  },
  {
   "cell_type": "markdown",
   "metadata": {},
   "source": [
    "The **and** is used to make sure two checks have to be true in order for the total check to be true."
   ]
  },
  {
   "cell_type": "markdown",
   "metadata": {},
   "source": [
    "## or"
   ]
  },
  {
   "cell_type": "code",
   "execution_count": 83,
   "metadata": {
    "ExecuteTime": {
     "end_time": "2020-08-26T21:55:08.856088Z",
     "start_time": "2020-08-26T21:55:08.840976Z"
    }
   },
   "outputs": [
    {
     "data": {
      "text/plain": [
       "True"
      ]
     },
     "execution_count": 83,
     "metadata": {},
     "output_type": "execute_result"
    }
   ],
   "source": [
    "1==2 or 2<3"
   ]
  },
  {
   "cell_type": "markdown",
   "metadata": {},
   "source": [
    "Note how it was true; this is because with the **or** operator, we only need one *or* the other to be true."
   ]
  },
  {
   "cell_type": "markdown",
   "metadata": {},
   "source": [
    "# Boolean type and Boolean operations\n",
    "\n",
    "- Conditions can be combined using **`and`**, **`or`**, and **`not`**:\n",
    " - a **and** b: return True if both a and b are True\n",
    " - a **or** b: return True if at least one is True\n",
    " - **not** a: return True if a is False"
   ]
  },
  {
   "cell_type": "code",
   "execution_count": 84,
   "metadata": {
    "ExecuteTime": {
     "end_time": "2020-08-26T21:55:10.881510Z",
     "start_time": "2020-08-26T21:55:10.874428Z"
    }
   },
   "outputs": [
    {
     "name": "stdout",
     "output_type": "stream",
     "text": [
      "True\n",
      "False\n",
      "False\n"
     ]
    }
   ],
   "source": [
    "#and\n",
    "print(True and True)\n",
    "print(True and False)\n",
    "print(False and False)"
   ]
  },
  {
   "cell_type": "code",
   "execution_count": 85,
   "metadata": {
    "ExecuteTime": {
     "end_time": "2020-08-26T21:55:11.239815Z",
     "start_time": "2020-08-26T21:55:11.221752Z"
    }
   },
   "outputs": [
    {
     "name": "stdout",
     "output_type": "stream",
     "text": [
      "True\n",
      "True\n",
      "False\n"
     ]
    }
   ],
   "source": [
    "#or\n",
    "print(True or True)\n",
    "print(True or False)\n",
    "print(False or False)"
   ]
  },
  {
   "cell_type": "markdown",
   "metadata": {},
   "source": [
    "# Tuples\n",
    "\n",
    "* A tuple is a collection which is ordered and unchangeable. \n",
    "* In Python tuples are written with round brackets `()`."
   ]
  },
  {
   "cell_type": "code",
   "execution_count": 86,
   "metadata": {
    "ExecuteTime": {
     "end_time": "2020-08-26T21:55:17.546291Z",
     "start_time": "2020-08-26T21:55:17.528355Z"
    }
   },
   "outputs": [],
   "source": [
    "# Create a tuple\n",
    "t = (1,2,3)"
   ]
  },
  {
   "cell_type": "code",
   "execution_count": 87,
   "metadata": {
    "ExecuteTime": {
     "end_time": "2020-08-26T21:55:17.933375Z",
     "start_time": "2020-08-26T21:55:17.914053Z"
    }
   },
   "outputs": [
    {
     "data": {
      "text/plain": [
       "('one', 2)"
      ]
     },
     "execution_count": 87,
     "metadata": {},
     "output_type": "execute_result"
    }
   ],
   "source": [
    "# Can also mix object types\n",
    "t = ('one',2)\n",
    "\n",
    "# Show\n",
    "t"
   ]
  },
  {
   "cell_type": "code",
   "execution_count": 88,
   "metadata": {
    "ExecuteTime": {
     "end_time": "2020-08-26T21:55:18.447000Z",
     "start_time": "2020-08-26T21:55:18.439701Z"
    }
   },
   "outputs": [
    {
     "data": {
      "text/plain": [
       "'one'"
      ]
     },
     "execution_count": 88,
     "metadata": {},
     "output_type": "execute_result"
    }
   ],
   "source": [
    "# Use indexing just like we did in lists\n",
    "t[0]"
   ]
  },
  {
   "cell_type": "code",
   "execution_count": null,
   "metadata": {},
   "outputs": [],
   "source": []
  },
  {
   "cell_type": "code",
   "execution_count": 89,
   "metadata": {
    "ExecuteTime": {
     "end_time": "2020-08-26T21:55:20.005141Z",
     "start_time": "2020-08-26T21:55:19.930314Z"
    }
   },
   "outputs": [
    {
     "ename": "TypeError",
     "evalue": "'tuple' object does not support item assignment",
     "output_type": "error",
     "traceback": [
      "\u001b[1;31m---------------------------------------------------------------------------\u001b[0m",
      "\u001b[1;31mTypeError\u001b[0m                                 Traceback (most recent call last)",
      "\u001b[1;32m<ipython-input-89-1257c0aa9edd>\u001b[0m in \u001b[0;36m<module>\u001b[1;34m\u001b[0m\n\u001b[1;32m----> 1\u001b[1;33m \u001b[0mt\u001b[0m\u001b[1;33m[\u001b[0m\u001b[1;36m0\u001b[0m\u001b[1;33m]\u001b[0m\u001b[1;33m=\u001b[0m \u001b[1;34m'change'\u001b[0m\u001b[1;33m\u001b[0m\u001b[1;33m\u001b[0m\u001b[0m\n\u001b[0m",
      "\u001b[1;31mTypeError\u001b[0m: 'tuple' object does not support item assignment"
     ]
    }
   ],
   "source": [
    "t[0]= 'change' #we received a typeError because tuples are immutable "
   ]
  },
  {
   "cell_type": "code",
   "execution_count": 90,
   "metadata": {
    "ExecuteTime": {
     "end_time": "2020-08-26T21:56:15.060126Z",
     "start_time": "2020-08-26T21:56:15.033906Z"
    }
   },
   "outputs": [
    {
     "ename": "AttributeError",
     "evalue": "'tuple' object has no attribute 'append'",
     "output_type": "error",
     "traceback": [
      "\u001b[1;31m---------------------------------------------------------------------------\u001b[0m",
      "\u001b[1;31mAttributeError\u001b[0m                            Traceback (most recent call last)",
      "\u001b[1;32m<ipython-input-90-b75f5b09ac19>\u001b[0m in \u001b[0;36m<module>\u001b[1;34m\u001b[0m\n\u001b[1;32m----> 1\u001b[1;33m \u001b[0mt\u001b[0m\u001b[1;33m.\u001b[0m\u001b[0mappend\u001b[0m\u001b[1;33m(\u001b[0m\u001b[1;34m'nope'\u001b[0m\u001b[1;33m)\u001b[0m\u001b[1;33m\u001b[0m\u001b[1;33m\u001b[0m\u001b[0m\n\u001b[0m",
      "\u001b[1;31mAttributeError\u001b[0m: 'tuple' object has no attribute 'append'"
     ]
    }
   ],
   "source": [
    "t.append('nope') #AttributeError becausae tuple has no append function"
   ]
  },
  {
   "cell_type": "markdown",
   "metadata": {},
   "source": [
    "# Set\n",
    "\n",
    "* Sets are an unordered collection of *unique* elements. \n",
    "* We can construct them by using the `set()` function."
   ]
  },
  {
   "cell_type": "code",
   "execution_count": 91,
   "metadata": {
    "ExecuteTime": {
     "end_time": "2020-08-26T21:57:03.680967Z",
     "start_time": "2020-08-26T21:57:03.667679Z"
    }
   },
   "outputs": [],
   "source": [
    "# Create a list with repeats\n",
    "list1 = [1,1,2,2,3,4,5,6,1,1]"
   ]
  },
  {
   "cell_type": "code",
   "execution_count": 93,
   "metadata": {
    "ExecuteTime": {
     "end_time": "2020-08-26T21:57:45.876469Z",
     "start_time": "2020-08-26T21:57:45.860497Z"
    }
   },
   "outputs": [
    {
     "data": {
      "text/plain": [
       "{1, 2, 3, 4, 5, 6}"
      ]
     },
     "execution_count": 93,
     "metadata": {},
     "output_type": "execute_result"
    }
   ],
   "source": [
    "set(list1) #using the set() function and output only shows the unique elements"
   ]
  },
  {
   "cell_type": "markdown",
   "metadata": {
    "ExecuteTime": {
     "end_time": "2020-08-22T13:39:13.339156Z",
     "start_time": "2020-08-22T13:39:13.328181Z"
    }
   },
   "source": [
    "# Control Structures\n",
    "\n",
    "\n",
    "In broad terms, a program is a set of instructions given to a computer to handle a task.\n",
    "How do we make sure that these instructions are executed in order and as intended?\n",
    "\n",
    "\n",
    "All programming languages use **control structures** to organize the flow of data.\n",
    "These determine how a program will respond when data exhibits certain conditions and parameters.\n",
    "In essence, these control structures implement decision-making processes that are needed for the use case\n",
    "\n",
    "Control structures may be any of the following\n",
    "- Selection by conditional (`if`, `if-else`, `if-elif-else`, `if`-`if`)\n",
    "- Repetition (`for`, `while`)\n",
    "- Exception (`break`,`continue`,`try-except`)\n"
   ]
  },
  {
   "cell_type": "markdown",
   "metadata": {},
   "source": [
    "##  Selection by conditionals\n",
    "### `if` \n",
    "\n",
    "- The syntax to implement a basic conditional statement in a function is:\n",
    "\n",
    "`example syntax:`\n",
    "\n",
    "```python\n",
    "if ('condition') :     # where condition is any boolean expression\n",
    "    expression1       # expression is indented and do something\n",
    "\n",
    "```\n",
    "\n",
    "- An `if` statement evaluates the expression inside the parenthesis. \n",
    "- If the expression is evaluated to `True`, the indented expression is executed. \n",
    "- If it is `False`, the indented expression inside the body is skipped."
   ]
  },
  {
   "cell_type": "code",
   "execution_count": 9,
   "metadata": {
    "ExecuteTime": {
     "end_time": "2020-08-25T08:35:21.671849Z",
     "start_time": "2020-08-25T08:35:21.666862Z"
    }
   },
   "outputs": [],
   "source": [
    "score1 = 80\n",
    "score2 = 90\n",
    "\n",
    "if (score1 > score2) :\n",
    "    print(\"Score1 is bigger\")"
   ]
  },
  {
   "cell_type": "markdown",
   "metadata": {},
   "source": [
    "### `if` - `else` \n",
    "An `if` statement is often paired with an `else` statement. \n",
    "The `else` statement executes the indented expression if the condition provided in `if` is `False`\n",
    "\n",
    "```python\n",
    "if (condition) :      \n",
    "    expression1       # indented\n",
    "else:                 # Note: else doesnt accept any conditions!\n",
    "    expression2       # indented, if condition1 is not satisfied do some expresssion 2\n",
    "```"
   ]
  },
  {
   "cell_type": "code",
   "execution_count": 34,
   "metadata": {
    "ExecuteTime": {
     "end_time": "2020-08-24T14:33:55.903052Z",
     "start_time": "2020-08-24T14:33:55.881934Z"
    }
   },
   "outputs": [
    {
     "name": "stdout",
     "output_type": "stream",
     "text": [
      " score2 is bigger\n"
     ]
    }
   ],
   "source": [
    "score1 = 90\n",
    "score2 = 80\n",
    "\n",
    "if (score1 < score2):\n",
    "    print(\" score1 is bigger\")\n",
    "else:\n",
    "    print(\" score2 is bigger\")"
   ]
  },
  {
   "cell_type": "markdown",
   "metadata": {
    "ExecuteTime": {
     "end_time": "2020-08-24T14:34:09.037284Z",
     "start_time": "2020-08-24T14:34:09.018044Z"
    }
   },
   "source": [
    "### `if` - `elif` and `if` - `elif`  - `else`\n",
    "\n",
    "An `elif` (short for else if) statement is added if you need to account for more than 1 condition.\n",
    "\n",
    "`example syntax:`\n",
    "\n",
    "```python\n",
    "if (condition1) :      \n",
    "    expression1       # indented\n",
    "elif (condition2):    \n",
    "    expression2       # indented\n",
    "elif (condition3):    \n",
    "    expression3       # indented\n",
    "else:\n",
    "    expression4       # indented\n",
    "```\n",
    "- You may add as many `elif` statements as needed.\n"
   ]
  },
  {
   "cell_type": "code",
   "execution_count": 36,
   "metadata": {
    "ExecuteTime": {
     "end_time": "2020-08-24T14:34:20.221887Z",
     "start_time": "2020-08-24T14:34:20.199600Z"
    }
   },
   "outputs": [
    {
     "name": "stdout",
     "output_type": "stream",
     "text": [
      "score1 and score2 are equal\n"
     ]
    }
   ],
   "source": [
    "score1 = 80\n",
    "score2 = 80\n",
    "\n",
    "if (score1 > score2):\n",
    "    print(\"score1 is bigger\")\n",
    "elif (score1 == score2):\n",
    "    print(\"score1 and score2 are equal\" )\n",
    "else:\n",
    "    print(\"score2 is bigger\")"
   ]
  },
  {
   "cell_type": "markdown",
   "metadata": {},
   "source": [
    "### `if` - `if` Testing Multiple Conditions\n",
    "\n",
    "The __if-elif-else__ chain is powerful , but it's only appropriate to use when you just need one test to pass. As soon as Python \n",
    "finds one test that passes, it skips the rest of the test.\n",
    "\n",
    "This technique makes sense when more than one condition could be True, and you want to act on every condition that is True.\n",
    "\n",
    "`example syntax:`\n",
    "\n",
    "```python\n",
    "if (condition1) :      \n",
    "    expression1       # indented\n",
    "if (condition2):    \n",
    "    expression2       # indented\n",
    "if (condition3):    \n",
    "    expression3       # indented\n",
    "if (condition4):\n",
    "    expression4       # indented\n",
    "```\n"
   ]
  },
  {
   "cell_type": "code",
   "execution_count": 16,
   "metadata": {
    "ExecuteTime": {
     "end_time": "2020-08-25T09:10:49.491211Z",
     "start_time": "2020-08-25T09:10:49.474257Z"
    }
   },
   "outputs": [
    {
     "name": "stdout",
     "output_type": "stream",
     "text": [
      "Adding mushrooms\n",
      "Adding extra cheese\n",
      "\n",
      "Finished making your order\n"
     ]
    }
   ],
   "source": [
    "request_toppings = ['mushrooms', 'extra cheese']\n",
    "\n",
    "if 'mushrooms' in request_toppings:\n",
    "    print(\"Adding mushrooms\")\n",
    "if 'pepperoni' in request_toppings:\n",
    "    print(\"Adding pepperoni\")\n",
    "if 'extra cheese' in request_toppings:\n",
    "    print(\"Adding extra cheese\")\n",
    "\n",
    "print(\"\\nFinished making your order\")"
   ]
  },
  {
   "cell_type": "markdown",
   "metadata": {},
   "source": [
    "### Functions with conditionals and nested conditionals"
   ]
  },
  {
   "cell_type": "markdown",
   "metadata": {},
   "source": [
    "- Conditionals are often used in writing functions:\n",
    "\n",
    "`example syntax:`\n",
    "\n",
    "```python\n",
    "def func():\n",
    "    if c1:\n",
    "        return A\n",
    "    else:\n",
    "        return B\n",
    "```\n",
    "\n",
    "- Conditionals can also be nested arbitrarily:\n",
    "  - Return A if c1 is true, B if c1 is false but c2 is true, and C if both are false:\n",
    "  \n",
    "`example syntax:`\n",
    "\n",
    "```python\n",
    "def func1():\n",
    "    if c1:\n",
    "        return A\n",
    "    else:\n",
    "        if c2:\n",
    "            return B\n",
    "        else:\n",
    "            return C\n",
    "```\n",
    "\n",
    "   - Return A if c1 and c2 are true, B if c1 is true but not c2, C if c1 is false but c3 is true, and D if c1 and c3 are both false:\n",
    "\n",
    "`example syntax:`\n",
    "\n",
    "```python\n",
    "def func2():\n",
    "    if c1:\n",
    "        if c2:\n",
    "            return A\n",
    "        else:\n",
    "            return B\n",
    "    elif c3:\n",
    "        return C\n",
    "    else:\n",
    "        return D\n",
    "```"
   ]
  },
  {
   "cell_type": "markdown",
   "metadata": {},
   "source": [
    "##  Repetition\n",
    "The power of programming lies in the computer's ability to perform calculations repeatedly at a pace no human could possibly do. \n",
    "\n",
    "Loops are processes that gets repeated again and again until a certain condition is reached. \n",
    "A single repetition of a process is often called an `iteration`.\n",
    "\n",
    "###  `For` loop\n",
    "\n",
    "A `for` loop has 2 sections: a `header` which specifies the iterating condition, and a `body` which is executed once per iteration. `item` you change the variable name\n",
    "\n",
    "_syntax:_\n",
    "\n",
    "```python\n",
    "for item in sequence:      \n",
    "    expression(s)    #indented\n",
    "```\n",
    "\n",
    "In flowchart form:\n",
    "![alt text](http://www.trytoprogram.com/images/python_for_loop.jpg)\n"
   ]
  },
  {
   "cell_type": "code",
   "execution_count": 17,
   "metadata": {
    "ExecuteTime": {
     "end_time": "2020-08-25T09:12:18.015353Z",
     "start_time": "2020-08-25T09:12:18.008373Z"
    }
   },
   "outputs": [
    {
     "data": {
      "text/plain": [
       "['Iron Man', 'Captain America', 'Hulk', 'Thor', 'Black Widow', 'Hawkeye']"
      ]
     },
     "execution_count": 17,
     "metadata": {},
     "output_type": "execute_result"
    }
   ],
   "source": [
    "avengers = ['Iron Man','Captain America','Hulk','Thor','Black Widow','Hawkeye']\n",
    "avengers"
   ]
  },
  {
   "cell_type": "code",
   "execution_count": 19,
   "metadata": {
    "ExecuteTime": {
     "end_time": "2020-08-25T09:12:33.140961Z",
     "start_time": "2020-08-25T09:12:33.125972Z"
    }
   },
   "outputs": [
    {
     "name": "stdout",
     "output_type": "stream",
     "text": [
      "Iron Man\n",
      "Captain America\n",
      "Hulk\n",
      "Thor\n",
      "Black Widow\n",
      "Hawkeye\n"
     ]
    }
   ],
   "source": [
    "for hero in avengers:\n",
    "    print(hero)"
   ]
  },
  {
   "cell_type": "code",
   "execution_count": 39,
   "metadata": {
    "ExecuteTime": {
     "end_time": "2020-08-24T14:35:44.702038Z",
     "start_time": "2020-08-24T14:35:44.693340Z"
    }
   },
   "outputs": [
    {
     "name": "stdout",
     "output_type": "stream",
     "text": [
      "0 Iron Man\n",
      "1 Captain America\n",
      "2 Hulk\n",
      "3 Thor\n",
      "4 Black Widow\n",
      "5 Hawkeye\n"
     ]
    }
   ],
   "source": [
    "for i in range(len(avengers)):\n",
    "    print(i, avengers[i])"
   ]
  },
  {
   "cell_type": "code",
   "execution_count": null,
   "metadata": {},
   "outputs": [],
   "source": []
  },
  {
   "cell_type": "markdown",
   "metadata": {},
   "source": [
    "### `while` Loop\n",
    "\n",
    "- While loops are used when the condition for terminating the loop is known, but not necessarily the number of iterations.  \n",
    " \n",
    "- When using a while loop, iteration continues until a given condition becomes False:\n",
    "\n",
    "_syntax:_\n",
    "\n",
    "```python\n",
    "while <condition>:\n",
    "   statements\n",
    "```\n",
    "In flowchart form:\n",
    "![alt text](http://www.trytoprogram.com/images/python_while_loop.jpg)\n",
    "\n",
    "- As a first example, this loop prints integers from 0 to 9:"
   ]
  },
  {
   "cell_type": "code",
   "execution_count": 41,
   "metadata": {
    "ExecuteTime": {
     "end_time": "2020-08-24T14:36:23.973856Z",
     "start_time": "2020-08-24T14:36:23.958205Z"
    }
   },
   "outputs": [
    {
     "name": "stdout",
     "output_type": "stream",
     "text": [
      "0\n",
      "1\n",
      "2\n",
      "3\n",
      "4\n",
      "5\n",
      "6\n",
      "7\n",
      "8\n",
      "9\n"
     ]
    }
   ],
   "source": [
    "i = 0\n",
    "while i < 10:\n",
    "    print(i)\n",
    "    i = i + 1"
   ]
  },
  {
   "cell_type": "markdown",
   "metadata": {},
   "source": [
    "This for loop does the same thing:"
   ]
  },
  {
   "cell_type": "code",
   "execution_count": 42,
   "metadata": {
    "ExecuteTime": {
     "end_time": "2020-08-24T14:36:29.340018Z",
     "start_time": "2020-08-24T14:36:29.328893Z"
    }
   },
   "outputs": [
    {
     "name": "stdout",
     "output_type": "stream",
     "text": [
      "0\n",
      "1\n",
      "2\n",
      "3\n",
      "4\n",
      "5\n",
      "6\n",
      "7\n",
      "8\n",
      "9\n"
     ]
    }
   ],
   "source": [
    "for i in range(0, 10):\n",
    "    print(i)"
   ]
  },
  {
   "cell_type": "markdown",
   "metadata": {},
   "source": [
    "## Exceptions\n",
    "\n",
    "\n",
    "###  `break`\n",
    "\n",
    "The `break` statement is used to jump out of the loop by skipping the remaining code without further testing the test expression of that loop. Basically, it is used to terminate while loop or for loop in Python.\n",
    "\n",
    "_syntax:_\n",
    "\n",
    "```python\n",
    "for var in sequence:\n",
    "  statement(s)\n",
    "  if (test_expression2):\n",
    "    break\n",
    "\n",
    "while (condition)\n",
    "  statement(s)\n",
    "  if (test_expression2):\n",
    "    break\n",
    "   \n",
    "```\n",
    "Code below prints a list of numbers using the while loop, but is preemptively terminated using the `break` statement\n",
    "\n"
   ]
  },
  {
   "cell_type": "code",
   "execution_count": 43,
   "metadata": {
    "ExecuteTime": {
     "end_time": "2020-08-24T14:37:16.141040Z",
     "start_time": "2020-08-24T14:37:16.121281Z"
    }
   },
   "outputs": [
    {
     "name": "stdout",
     "output_type": "stream",
     "text": [
      "1\n",
      "2\n",
      "3\n",
      "4\n",
      "5\n",
      "6\n",
      "7\n"
     ]
    }
   ],
   "source": [
    "num = [1,2,3,4,5,6,7,8]\n",
    "\n",
    "for n in num:\n",
    "    print(n)\n",
    "    if (n == 7):\n",
    "        break\n"
   ]
  },
  {
   "cell_type": "markdown",
   "metadata": {
    "ExecuteTime": {
     "end_time": "2020-08-24T14:37:16.358057Z",
     "start_time": "2020-08-24T14:37:16.339897Z"
    }
   },
   "source": [
    "### `continue`\n",
    "\n",
    "The `continue` statement is used to skip the remaining statements in the body of that loop and continue the next iteration of the loop.\n",
    "\n",
    "Unlike `break`, `continue` statement doesn’t terminate the loop, but rather interrupts a particular iteration only.\n",
    "\n",
    "_syntax:_\n",
    "\n",
    "```python\n",
    "while (test_expression1):\n",
    "  statement(s)\n",
    "  if (test_expression2):\n",
    "    continue\n",
    "    \n",
    "for var in sequence:\n",
    "  statement(s)\n",
    "  if (test_expression2):\n",
    "    continue\n",
    "```\n",
    "Code below counts a list of numbers using the while loop, but one iteration isnt printed because of `continue` statement\n"
   ]
  },
  {
   "cell_type": "code",
   "execution_count": 45,
   "metadata": {
    "ExecuteTime": {
     "end_time": "2020-08-24T14:37:35.559567Z",
     "start_time": "2020-08-24T14:37:35.551551Z"
    }
   },
   "outputs": [
    {
     "name": "stdout",
     "output_type": "stream",
     "text": [
      "1\n",
      "2\n",
      "3\n",
      "5\n",
      "6\n",
      "7\n",
      "8\n"
     ]
    }
   ],
   "source": [
    "num = [1,2,3,4,5,6,7,8]\n",
    "\n",
    "for n in num:\n",
    "    if (n == 4):\n",
    "        continue\n",
    "    print(n)          # notice \n"
   ]
  },
  {
   "cell_type": "markdown",
   "metadata": {},
   "source": [
    "### `try`-`except`\n",
    "\n",
    "Exceptions are 'thrown' whenever Python encounters something that the function in use cannot handle. \n",
    "Teh most-often encountered ones are:`SyntaxError`,`IndexError`,`TypeError`, `ZeroDivisionError`\n",
    "Some kinds of errors are listed [here](http://www.trytoprogram.com/python-programming/python-exception-handling/)\n",
    "\n",
    "Exceptions are handled in Python using the `try` statement. Suspicious codes that may raise exceptions are placed inside the `try` block and the code that executes when the exception occurs is placed inside `except` block.\n",
    "\n",
    "Here is the structure of `try` and `except` statement in Python.\n",
    "\n",
    "_syntax_\n",
    "\n",
    "```python\n",
    "try:\n",
    "  ** Operational/Suspicious Code\n",
    "except SomeException:\n",
    "  ** Code to handle the exception\n",
    "```\n",
    "\n",
    "- First statements in try block are executed to check whether or not exception occurs\n",
    "- If exception doesn’t occur then the except block is skipped.\n",
    "- If an exception occurs and matches the name defined 'SomeException' to handle in except block, the code inside will activate and the code continues\n",
    "- You could also choose not to specify an Exception Kind\n",
    "- If no code for the exception is found in except block, the program execution stops with the corresponding error message.\n",
    "\n",
    "\n",
    "For example, the code below  divides elements from 2 lists at the same index and handles the case when a 0 divisor is encountered"
   ]
  },
  {
   "cell_type": "code",
   "execution_count": 46,
   "metadata": {
    "ExecuteTime": {
     "end_time": "2020-08-24T14:38:01.515225Z",
     "start_time": "2020-08-24T14:38:01.493106Z"
    }
   },
   "outputs": [
    {
     "data": {
      "text/plain": [
       "[5.0, 3.0, 'ERROR', 5.0, 4.0, 'ERROR']"
      ]
     },
     "execution_count": 46,
     "metadata": {},
     "output_type": "execute_result"
    }
   ],
   "source": [
    "dividend = [15,15,15,20,20,20]\n",
    "divisor = [3,5,0,4,5,0]\n",
    "\n",
    "quotient = []\n",
    "for n in range(len(dividend)):\n",
    "    try:\n",
    "        result = dividend[n]/divisor[n]\n",
    "    except:\n",
    "        result = 'ERROR'\n",
    "    #result = dividend[n]/divisor[n]    \n",
    "    quotient.append(result)\n",
    "    \n",
    "quotient   "
   ]
  },
  {
   "cell_type": "markdown",
   "metadata": {
    "ExecuteTime": {
     "end_time": "2020-08-24T13:53:30.646362Z",
     "start_time": "2020-08-24T13:53:30.629409Z"
    }
   },
   "source": [
    "# Python keywords\n",
    "Python has a set of keywords that are reserved words that cannot be used as variable names, function names, or any other identifiers: <br>\n",
    "Source: https://www.w3schools.com/python/python_ref_keywords.asp\n",
    "\n",
    "<table class=\"table table-bordered\">\n",
    "<tr>\n",
    "<th style=\"width:10%\">Python Keywords</th><th style=\"width:45%\">Description</th>\n",
    "</tr>\n",
    "<tr>\n",
    "<td>and</td><td>A logical operator</td>\n",
    "</tr>\n",
    "<tr>    \n",
    "<td>as</td><td>To create an alias</td>\n",
    "</tr>\n",
    "<tr>\n",
    "<td>assert</td>\t<td>For debugging</td>\n",
    "</tr>\n",
    "<tr>\n",
    "<td>break</td>\t<td>To break out of a loop</td>\n",
    "</tr>\n",
    "<tr>\n",
    "<td>class</td>\t<td>To define a class</td>\n",
    "</tr>\n",
    "<tr>\n",
    "<td>continue</td>\t<td>To continue to the next iteration of a loop</td>\n",
    "</tr>\n",
    "<tr>\n",
    "<td>def</td>\t<td>To define a function</td>\n",
    "</tr>\n",
    "<tr>\n",
    "<td>del</td>\t<td>To delete an object</td>\n",
    "</tr>\n",
    "<tr>\n",
    "<td>elif</td>\t<td>Used in conditional statements, same as else if</td>\n",
    "</tr>\n",
    "<tr>\n",
    "<td>else</td>\t<td>Used in conditional statements</td>\n",
    "</tr>\n",
    "<tr>\n",
    "<td>except</td>\t<td>Used with exceptions, what to do when an exception occurs</td>\n",
    "</tr>\n",
    "<tr>\n",
    "<td>False</td>\t<td>Boolean value, result of comparison operations</td>\n",
    "</tr>\n",
    "<tr>\n",
    "<td>finally</td>\t<td>Used with exceptions, a block of code that will be executed no matter if there is an exception or not</td>\n",
    "</tr>\n",
    "<tr>\n",
    "<td>for</td>\t<td>To create a for loop</td>\n",
    "</tr>\n",
    "<tr>\n",
    "<td>from</td>\t<td>To import specific parts of a module</td>\n",
    "</tr>\n",
    "<tr>\n",
    "<td>global</td>\t<td>To declare a global variable</td>\n",
    "</tr>\n",
    "<tr>\n",
    "<td>if</td>\t<td>To make a conditional statement</td>\n",
    "</tr>\n",
    "<tr>\n",
    "<td>import</td>\t<td>To import a module</td>\n",
    "</tr>\n",
    "<tr>\n",
    "<td>in</td>\t<td>To check if a value is present in a list, tuple, etc.</td>\n",
    "</tr>\n",
    "<tr>\n",
    "<td>is</td>\t<td>To test if two variables are equal</td>\n",
    "</tr>\n",
    "<tr>\n",
    "<td>lambda</td>\t<td>To create an anonymous function</td>\n",
    "</tr>\n",
    "<tr>\n",
    "<td>None</td>\t<td>Represents a null value</td>\n",
    "</tr>\n",
    "<tr>\n",
    "<td>nonlocal</td>\t<td>To declare a non-local variable</td>\n",
    "</tr>\n",
    "<tr>\n",
    "<td>not</td>\t<td>A logical operator</td>\n",
    "</tr>\n",
    "<tr>\n",
    "<td>or</td>\t<td>A logical operator</td>\n",
    "</tr>\n",
    "<tr>\n",
    "<td>pass</td>\t<td>A null statement, a statement that will do nothing</td>\n",
    "</tr>\n",
    "<tr>\n",
    "<td>raise</td>\t<td>To raise an exception</td>\n",
    "</tr>\n",
    "<tr>\n",
    "<td>return</td>\t<td>To exit a function and return a value</td>\n",
    "</tr>\n",
    "<tr>\n",
    "<td>True</td>\t<td>Boolean value, result of comparison operations.</td>\n",
    "</tr>\n",
    "<tr>\n",
    "<td>try</td>\t<td>To make a try...except statement</td>\n",
    "</tr>\n",
    "<tr>\n",
    "<td>while</td>\t<td>To create a while loop</td>\n",
    "</tr>\n",
    "<tr>\n",
    "<td>with</td>\t<td>Used to simplify exception handling</td>\n",
    "</tr>\n",
    "<tr>\n",
    "<td>yield</td>\t<td>To end a function, returns a generator</td>"
   ]
  },
  {
   "cell_type": "markdown",
   "metadata": {},
   "source": [
    "# Functions\n",
    "\n",
    "* which are named blocks of code that are designed to do one specific job.\n",
    "\n"
   ]
  },
  {
   "cell_type": "markdown",
   "metadata": {},
   "source": [
    "## Built in functions\n",
    "\n",
    "The Python interpreter has a number of functions and types built into it that are always available. They are listed here in alphabetical order."
   ]
  },
  {
   "cell_type": "markdown",
   "metadata": {},
   "source": [
    "https://docs.python.org/3/library/functions.html\n",
    "<table class=\"table table-bordered\">\n",
    "<tr>\n",
    "<th style=\"width:10%\">Build in function</th><th style=\"width:45%\">Description</th>\n",
    "</tr>\n",
    "<tr>\n",
    "<td>abs()</td><td>Returns the absolute value of a number</td>\n",
    "</tr>\n",
    "<tr>\n",
    "<td>all()</td><td>\tReturns True if all items in an iterable object are true\n",
    "    </tr>\n",
    "<tr>\n",
    "<td>any()</td><td>\tReturns True if any item in an iterable object is true\n",
    "        </tr>\n",
    "<tr>\n",
    "<td>ascii()</td><td>\tReturns a readable version of an object. Replaces none-ascii characters with escape character\n",
    "        </tr>\n",
    "<tr>\n",
    "<td>bin()</td><td>\tReturns the binary version of a number\n",
    "        </tr>\n",
    "<tr>\n",
    "<td>bool()</td><td>\tReturns the boolean value of the specified object\n",
    "        </tr>\n",
    "<tr>\n",
    "<td>bytearray()</td><td>\tReturns an array of bytes\n",
    "        </tr>\n",
    "<tr>\n",
    "<td>bytes()</td><td>\tReturns a bytes object\n",
    "        </tr>\n",
    "<tr>\n",
    "<td>callable()</td><td>\tReturns True if the specified object is callable, otherwise False\n",
    "        </tr>\n",
    "<tr>\n",
    "<td>chr()</td><td>\tReturns a character from the specified Unicode code.\n",
    "        </tr>\n",
    "<tr>\n",
    "<td>classmethod()</td><td>\tConverts a method into a class method\n",
    "        </tr>\n",
    "<tr>\n",
    "<td>compile()</td><td>\tReturns the specified source as an object, ready to be executed\n",
    "        </tr>\n",
    "<tr>\n",
    "<td>complex()</td><td>\tReturns a complex number\n",
    "        </tr>\n",
    "<tr>\n",
    "<td>delattr()</td><td>\tDeletes the specified attribute (property or method) from the specified object\n",
    "        </tr>\n",
    "<tr>\n",
    "<td>dict()</td><td>\tReturns a dictionary (Array)\n",
    "        </tr>\n",
    "<tr>\n",
    "<td>dir()</td><td>\tReturns a list of the specified object's properties and methods</td>\n",
    "            </tr>\n",
    "<tr>\n",
    "<td>divmod()</td><td>\tReturns the quotient and the remainder when argument1 is divided by argument2</td>\n",
    "        </tr>\n",
    "<tr>\n",
    "<td>enumerate()</td><td>\tTakes a collection (e.g. a tuple) and returns it as an enumerate object\n",
    "        </tr>\n",
    "<tr>\n",
    "<td>eval()</td><td>\tEvaluates and executes an expression\n",
    "        </tr>\n",
    "<tr>\n",
    "<td>exec()</td><td>\tExecutes the specified code (or object)\n",
    "        </tr>\n",
    "<tr>\n",
    "<td>filter()</td><td>\tUse a filter function to exclude items in an iterable object\n",
    "        </tr>\n",
    "<tr>\n",
    "<td>float()</td><td>\tReturns a floating point number\n",
    "        </tr>\n",
    "<tr>\n",
    "<td>format()</td><td>\tFormats a specified value\n",
    "        </tr>\n",
    "<tr>\n",
    "<td>frozenset()</td><td>\tReturns a frozenset object\n",
    "        </tr>\n",
    "<tr>\n",
    "<td>getattr()</td><td>\tReturns the value of the specified attribute (property or method)\n",
    "        </tr>\n",
    "<tr>\n",
    "<td>globals()</td><td>\tReturns the current global symbol table as a dictionary\n",
    "        </tr>\n",
    "<tr>\n",
    "<td>hasattr()</td><td>\tReturns True if the specified object has the specified attribute (property/method)\n",
    "        </tr>\n",
    "<tr>\n",
    "<td>hash()</td><td>\tReturns the hash value of a specified object\n",
    "        </tr>\n",
    "<tr>\n",
    "<td>help()</td><td>\tExecutes the built-in help system\n",
    "        </tr>\n",
    "<tr>\n",
    "<td>hex()</td><td>\tConverts a number into a hexadecimal value\n",
    "        </tr>\n",
    "<tr>\n",
    "<td>id()</td><td>\tReturns the id of an object\n",
    "        </tr>\n",
    "<tr>\n",
    "<td>input()</td><td>\tAllowing user input\n",
    "        </tr>\n",
    "<tr>\n",
    "<td>int()</td><td>\tReturns an integer number\n",
    "        </tr>\n",
    "<tr>\n",
    "<td>isinstance()</td><td>\tReturns True if a specified object is an instance of a specified object\n",
    "        </tr>\n",
    "<tr>\n",
    "<td>issubclass()</td><td>\tReturns True if a specified class is a subclass of a specified object\n",
    "        </tr>\n",
    "<tr>\n",
    "<td>iter()</td><td>\tReturns an iterator object\n",
    "        </tr>\n",
    "<tr>\n",
    "<td>len()</td><td>\tReturns the length of an object\n",
    "        </tr>\n",
    "<tr>\n",
    "<td>list()</td><td>\tReturns a list\n",
    "        </tr>\n",
    "<tr>\n",
    "<td>locals()</td><td>\tReturns an updated dictionary of the current local symbol table\n",
    "        </tr>\n",
    "<tr>\n",
    "<td>map()</td><td>\tReturns the specified iterator with the specified function applied to each item\n",
    "        </tr>\n",
    "<tr>\n",
    "<td>max()</td><td>\tReturns the largest item in an iterable\n",
    "        </tr>\n",
    "<tr>\n",
    "<td>memoryview()</td><td>\tReturns a memory view object\n",
    "        </tr>\n",
    "<tr>\n",
    "<td>min()</td><td>\tReturns the smallest item in an iterable\n",
    "        </tr>\n",
    "<tr>\n",
    "<td>next()</td><td>\tReturns the next item in an iterable\n",
    "        </tr>\n",
    "<tr>\n",
    "<td>object()</td><td>\tReturns a new object\n",
    "        </tr>\n",
    "<tr>\n",
    "<td>oct()</td><td>\tConverts a number into an octal\n",
    "        </tr>\n",
    "<tr>\n",
    "<td>open()</td><td>\tOpens a file and returns a file object\n",
    "        </tr>\n",
    "<tr>\n",
    "<td>ord()</td><td>\tConvert an integer representing the Unicode of the specified character\n",
    "        </tr>\n",
    "<tr>\n",
    "<td>pow()</td><td>\tReturns the value of x to the power of y\n",
    "        </tr>\n",
    "<tr>\n",
    "<td>print()</td><td>\tPrints to the standard output device\n",
    "        </tr>\n",
    "<tr>\n",
    "<td>property()</td><td>\tGets, sets, deletes a property\n",
    "        </tr>\n",
    "<tr>\n",
    "<td>range()</td><td>\tReturns a sequence of numbers, starting from 0 and increments by 1 (by default)\n",
    "        </tr>\n",
    "<tr>\n",
    "<td>repr()</td><td>\tReturns a readable version of an object\n",
    "        </tr>\n",
    "<tr>\n",
    "<td>reversed()</td><td>\tReturns a reversed iterator\n",
    "        </tr>\n",
    "<tr>\n",
    "<td>round()</td><td>\tRounds a numbers\n",
    "        </tr>\n",
    "<tr>\n",
    "<td>set()</td><td>\tReturns a new set object\n",
    "        </tr>\n",
    "<tr>\n",
    "<td>setattr()</td><td>\tSets an attribute (property/method) of an object\n",
    "        </tr>\n",
    "<tr>\n",
    "<td>slice()\t</td><td>Returns a slice object\n",
    "        </tr>\n",
    "<tr>\n",
    "<td>sorted()</td><td>\tReturns a sorted list\n",
    "        </tr>\n",
    "<tr>\n",
    "<td>@staticmethod()</td><td>\tConverts a method into a static method\n",
    "        </tr>\n",
    "<tr>\n",
    "<td>str()</td><td>\tReturns a string object\n",
    "        </tr>\n",
    "<tr>\n",
    "<td>sum()</td><td>\tSums the items of an iterator\n",
    "        </tr>\n",
    "<tr>\n",
    "<td>super()\t</td><td>Returns an object that represents the parent class\n",
    "        </tr>\n",
    "<tr>\n",
    "<td>tuple()\t</td><td>Returns a tuple\n",
    "        </tr>\n",
    "<tr>\n",
    "<td>type()\t</td><td>Returns the type of an object\n",
    "        </tr>\n",
    "<tr>\n",
    "<td>vars()\t</td><td>Returns the __dict__ property of an object\n",
    "        </tr>\n",
    "<tr>\n",
    "<td>zip()\t</td><td>Returns an iterator, from two or more iterators\n",
    "        </tr>"
   ]
  },
  {
   "cell_type": "markdown",
   "metadata": {},
   "source": [
    "### `len()` built in function\n",
    "\n",
    "* Returns the length of an object"
   ]
  },
  {
   "cell_type": "code",
   "execution_count": 99,
   "metadata": {
    "ExecuteTime": {
     "end_time": "2020-08-26T22:02:52.781029Z",
     "start_time": "2020-08-26T22:02:52.766069Z"
    }
   },
   "outputs": [
    {
     "data": {
      "text/plain": [
       "4"
      ]
     },
     "execution_count": 99,
     "metadata": {},
     "output_type": "execute_result"
    }
   ],
   "source": [
    "len([1,5,67, 100]) #lenght of list"
   ]
  },
  {
   "cell_type": "markdown",
   "metadata": {
    "ExecuteTime": {
     "end_time": "2020-08-26T21:59:56.947201Z",
     "start_time": "2020-08-26T21:59:56.941569Z"
    }
   },
   "source": [
    "### `max()` built in function\n",
    "* Returns the largest item in an iterable"
   ]
  },
  {
   "cell_type": "code",
   "execution_count": 98,
   "metadata": {
    "ExecuteTime": {
     "end_time": "2020-08-26T22:02:45.346423Z",
     "start_time": "2020-08-26T22:02:45.329942Z"
    }
   },
   "outputs": [
    {
     "data": {
      "text/plain": [
       "100"
      ]
     },
     "execution_count": 98,
     "metadata": {},
     "output_type": "execute_result"
    }
   ],
   "source": [
    "max([1,5,67, 100]) #max number in the list"
   ]
  },
  {
   "cell_type": "markdown",
   "metadata": {},
   "source": [
    "### `abs()` built in function\n",
    "* Returns the absolute value of a number"
   ]
  },
  {
   "cell_type": "code",
   "execution_count": 100,
   "metadata": {
    "ExecuteTime": {
     "end_time": "2020-08-26T22:03:14.365534Z",
     "start_time": "2020-08-26T22:03:14.352570Z"
    }
   },
   "outputs": [
    {
     "data": {
      "text/plain": [
       "1.0"
      ]
     },
     "execution_count": 100,
     "metadata": {},
     "output_type": "execute_result"
    }
   ],
   "source": [
    "abs(-1.0) #absolute value "
   ]
  },
  {
   "cell_type": "markdown",
   "metadata": {},
   "source": [
    "### `help()` built in function\n",
    "* Executes the built-in help system"
   ]
  },
  {
   "cell_type": "code",
   "execution_count": 101,
   "metadata": {
    "ExecuteTime": {
     "end_time": "2020-08-26T22:03:43.669983Z",
     "start_time": "2020-08-26T22:03:43.655023Z"
    }
   },
   "outputs": [
    {
     "name": "stdout",
     "output_type": "stream",
     "text": [
      "Help on built-in function print in module builtins:\n",
      "\n",
      "print(...)\n",
      "    print(value, ..., sep=' ', end='\\n', file=sys.stdout, flush=False)\n",
      "    \n",
      "    Prints the values to a stream, or to sys.stdout by default.\n",
      "    Optional keyword arguments:\n",
      "    file:  a file-like object (stream); defaults to the current sys.stdout.\n",
      "    sep:   string inserted between values, default a space.\n",
      "    end:   string appended after the last value, default a newline.\n",
      "    flush: whether to forcibly flush the stream.\n",
      "\n"
     ]
    }
   ],
   "source": [
    "help(print)"
   ]
  },
  {
   "cell_type": "markdown",
   "metadata": {},
   "source": [
    "### `map()` built in function\n",
    "\n",
    "* Returns the specified iterator with the specified function applied to each item\n",
    "\n",
    "_syntax:_\n",
    "\n",
    "```python\n",
    "map(function, iterables)\n",
    "```"
   ]
  },
  {
   "cell_type": "code",
   "execution_count": 116,
   "metadata": {
    "ExecuteTime": {
     "end_time": "2020-08-26T22:46:25.033916Z",
     "start_time": "2020-08-26T22:46:25.024572Z"
    }
   },
   "outputs": [],
   "source": [
    "#create a function\n",
    "def myfunc(a, b):\n",
    "  return a + \" \" + b\n",
    "\n",
    "x = map(myfunc, ('apple', 'banana', 'cherry'), ('orange', 'lemon', 'pineapple'))"
   ]
  },
  {
   "cell_type": "code",
   "execution_count": 117,
   "metadata": {
    "ExecuteTime": {
     "end_time": "2020-08-26T22:46:25.394115Z",
     "start_time": "2020-08-26T22:46:25.387136Z"
    }
   },
   "outputs": [
    {
     "data": {
      "text/plain": [
       "<map at 0x269de8bfc08>"
      ]
     },
     "execution_count": 117,
     "metadata": {},
     "output_type": "execute_result"
    }
   ],
   "source": [
    "# x becomes a map object\n",
    "x"
   ]
  },
  {
   "cell_type": "code",
   "execution_count": 118,
   "metadata": {
    "ExecuteTime": {
     "end_time": "2020-08-26T22:46:25.877822Z",
     "start_time": "2020-08-26T22:46:25.865855Z"
    }
   },
   "outputs": [
    {
     "data": {
      "text/plain": [
       "['apple orange', 'banana lemon', 'cherry pineapple']"
      ]
     },
     "execution_count": 118,
     "metadata": {},
     "output_type": "execute_result"
    }
   ],
   "source": [
    "#to print output use list function\n",
    "list(x)"
   ]
  },
  {
   "cell_type": "markdown",
   "metadata": {},
   "source": [
    "### `filter()` function \n",
    "\n",
    "* returns an iterator were the items are filtered through a function to test if the item is accepted or not.\n",
    "\n",
    "_syntax_\n",
    "\n",
    "```python\n",
    "filter(function, iterable)\n",
    "```"
   ]
  },
  {
   "cell_type": "code",
   "execution_count": 126,
   "metadata": {
    "ExecuteTime": {
     "end_time": "2020-08-26T22:51:10.626066Z",
     "start_time": "2020-08-26T22:51:10.619561Z"
    }
   },
   "outputs": [],
   "source": [
    "#Filter the array, and return a new array with only the values equal to or above 18:\n",
    "ages = [5, 12, 17, 18, 24, 32, 100, 82]\n",
    "\n",
    "def myFunc(x):\n",
    "  if x < 18:\n",
    "    return False\n",
    "  else:\n",
    "    return True\n",
    "\n",
    "adults = filter(myFunc, ages)"
   ]
  },
  {
   "cell_type": "code",
   "execution_count": 123,
   "metadata": {
    "ExecuteTime": {
     "end_time": "2020-08-26T22:50:03.940645Z",
     "start_time": "2020-08-26T22:50:03.931671Z"
    }
   },
   "outputs": [
    {
     "data": {
      "text/plain": [
       "<filter at 0x269de90dc88>"
      ]
     },
     "execution_count": 123,
     "metadata": {},
     "output_type": "execute_result"
    }
   ],
   "source": [
    "#filter object\n",
    "adults"
   ]
  },
  {
   "cell_type": "code",
   "execution_count": 124,
   "metadata": {
    "ExecuteTime": {
     "end_time": "2020-08-26T22:50:04.532873Z",
     "start_time": "2020-08-26T22:50:04.514459Z"
    }
   },
   "outputs": [
    {
     "data": {
      "text/plain": [
       "[18, 24, 32, 100, 82]"
      ]
     },
     "execution_count": 124,
     "metadata": {},
     "output_type": "execute_result"
    }
   ],
   "source": [
    "#printing to a list\n",
    "list(adults)"
   ]
  },
  {
   "cell_type": "code",
   "execution_count": 127,
   "metadata": {
    "ExecuteTime": {
     "end_time": "2020-08-26T22:51:12.530188Z",
     "start_time": "2020-08-26T22:51:12.517119Z"
    }
   },
   "outputs": [
    {
     "name": "stdout",
     "output_type": "stream",
     "text": [
      "18\n",
      "24\n",
      "32\n",
      "100\n",
      "82\n"
     ]
    }
   ],
   "source": [
    "for x in adults:\n",
    "  print(x)"
   ]
  },
  {
   "cell_type": "markdown",
   "metadata": {},
   "source": [
    "## User Defined function\n",
    "\n",
    "* Functions that we define ourselves to do certain specific task are referred as user-defined functions\n",
    "\n",
    "Advantages of user-defined functions\n",
    "\n",
    "1.User-defined functions help to decompose a large program into small segments which makes program easy to understand, maintain and debug. <br>\n",
    "2.If repeated code occurs in a program. Function can be used to include those codes and execute when needed by calling that function.<br>\n",
    "3.Programmars working on large project can divide the workload by making different functions."
   ]
  },
  {
   "cell_type": "code",
   "execution_count": 21,
   "metadata": {
    "ExecuteTime": {
     "end_time": "2020-08-25T10:03:21.641022Z",
     "start_time": "2020-08-25T10:03:21.625066Z"
    }
   },
   "outputs": [],
   "source": [
    "def num_raise2(x):\n",
    "    result = x**2 \n",
    "    return result"
   ]
  },
  {
   "cell_type": "code",
   "execution_count": 16,
   "metadata": {
    "ExecuteTime": {
     "end_time": "2020-07-28T07:25:00.743195Z",
     "start_time": "2020-07-28T07:25:00.735186Z"
    }
   },
   "outputs": [
    {
     "data": {
      "text/plain": [
       "9"
      ]
     },
     "execution_count": 16,
     "metadata": {},
     "output_type": "execute_result"
    }
   ],
   "source": [
    "num_raise2(3)"
   ]
  },
  {
   "cell_type": "markdown",
   "metadata": {},
   "source": [
    "- The keyword `def` introduces a function definition. It is followed by the function name and a parenthesized list of parameters, called the function **arguments** \n",
    "- The statements in the body of the function start at the next line, and must be indented.\n",
    "- The function ends with the keyword `return` which specifies the variable it outputs"
   ]
  },
  {
   "cell_type": "code",
   "execution_count": 22,
   "metadata": {
    "ExecuteTime": {
     "end_time": "2020-08-25T10:03:23.773321Z",
     "start_time": "2020-08-25T10:03:23.767229Z"
    }
   },
   "outputs": [],
   "source": [
    "def greet_user():\n",
    "    \"\"\"Display a simple greeting.\"\"\"\n",
    "    print(\"Hello\")"
   ]
  },
  {
   "cell_type": "code",
   "execution_count": 24,
   "metadata": {
    "ExecuteTime": {
     "end_time": "2020-08-25T10:03:35.939644Z",
     "start_time": "2020-08-25T10:03:35.922687Z"
    }
   },
   "outputs": [
    {
     "name": "stdout",
     "output_type": "stream",
     "text": [
      "Hello\n"
     ]
    }
   ],
   "source": [
    "greet_user()"
   ]
  },
  {
   "cell_type": "markdown",
   "metadata": {},
   "source": [
    "### Keyword Arguments\n",
    "You can also send arguments with the key = value syntax.\n",
    "\n",
    "This way the order of the arguments does not matter."
   ]
  },
  {
   "cell_type": "code",
   "execution_count": 103,
   "metadata": {
    "ExecuteTime": {
     "end_time": "2020-08-26T22:04:48.694848Z",
     "start_time": "2020-08-26T22:04:48.679890Z"
    }
   },
   "outputs": [
    {
     "name": "stdout",
     "output_type": "stream",
     "text": [
      "The youngest child is Linus\n"
     ]
    }
   ],
   "source": [
    "def my_function(child3, child2, child1):\n",
    "  print(\"The youngest child is \" + child3)\n",
    "\n",
    "my_function(child1 = \"Dave\", child2 = \"Cam\", child3 = \"Linus\")"
   ]
  },
  {
   "cell_type": "markdown",
   "metadata": {},
   "source": [
    "### Arbitrary Keyword Arguments, **kwargs\n",
    "If you do not know how many keyword arguments that will be passed into your function, add two asterisk: `**` before the parameter name in the function definition.\n",
    "\n",
    "This way the function will receive a dictionary of arguments, and can access the items accordingly:"
   ]
  },
  {
   "cell_type": "code",
   "execution_count": 105,
   "metadata": {
    "ExecuteTime": {
     "end_time": "2020-08-26T22:05:20.678272Z",
     "start_time": "2020-08-26T22:05:20.656329Z"
    }
   },
   "outputs": [
    {
     "name": "stdout",
     "output_type": "stream",
     "text": [
      "His last name is Bryant\n"
     ]
    }
   ],
   "source": [
    "def my_function(**kid):\n",
    "  print(\"His last name is \" + kid[\"lname\"])\n",
    "\n",
    "my_function(fname = \"Kobe\", lname = \"Bryant\")"
   ]
  },
  {
   "cell_type": "markdown",
   "metadata": {},
   "source": [
    "### print vs return\n",
    "\n",
    "`print` will immediately make your program write out text for you to see. <br>\n",
    "`return` when you want to send a value from one point in your code to another."
   ]
  },
  {
   "cell_type": "markdown",
   "metadata": {},
   "source": [
    "* lambda expressions\n",
    "* map and filter\n",
    "* methods"
   ]
  },
  {
   "cell_type": "markdown",
   "metadata": {},
   "source": [
    "# lambda expression\n",
    "\n",
    "* A lambda function is a small anonymous function.\n",
    "\n",
    "* A lambda function can take any number of arguments, but can only have one expression.\n",
    "\n",
    "\n",
    "_syntax:_ <br>\n",
    "`lambda` arguments : expression\n"
   ]
  },
  {
   "cell_type": "code",
   "execution_count": 25,
   "metadata": {
    "ExecuteTime": {
     "end_time": "2020-08-25T10:30:14.546061Z",
     "start_time": "2020-08-25T10:30:14.541104Z"
    }
   },
   "outputs": [
    {
     "name": "stdout",
     "output_type": "stream",
     "text": [
      "15\n"
     ]
    }
   ],
   "source": [
    "x = lambda a: a + 10\n",
    "print(x(5))\n"
   ]
  },
  {
   "cell_type": "markdown",
   "metadata": {},
   "source": [
    "# methods vs functions\n",
    "\n",
    "e.g `functions`\n",
    "```python\n",
    "len([1,5,67, 100]) \n",
    "int(1.2) # converts float to int\n",
    "\n",
    "```\n",
    "e.g `string methods`\n",
    "\n",
    "```python\n",
    "\n",
    "\"hello\".capitalize() # Converts the first character to upper case\n",
    "\n",
    "```\n",
    "\n",
    "`Function`\n",
    "A function is a block of code to carry out a specific task, will contain its own scope and is called by name. All functions may contain zero(no) arguments or more than one arguments. On exit, a function can or can not return one or more values.\n",
    "\n",
    "e.g user defined function\n",
    "``` python\n",
    "def functionName( arg1, arg2,….):\n",
    "   …….\n",
    "   # Function_body\n",
    "   ……..\n",
    "\n",
    "```\n",
    "\n",
    "\n",
    "`Method`\n",
    "\n",
    "A method in python is somewhat similar to a function, except it is associated with object/classes. Methods in python are very similar to functions except for two major differences.\n",
    "\n",
    "The method is implicitly used for an object for which it is called.\n",
    "\n",
    "The method is accessible to data that is contained within the class.\n",
    "\n",
    "_General Method Syntax_\n",
    "\n",
    "``` python\n",
    "class ClassName:\n",
    "   def method_name():\n",
    "      …………..\n",
    "      # Method_body\n",
    "      ………………\n",
    "```"
   ]
  },
  {
   "cell_type": "code",
   "execution_count": null,
   "metadata": {},
   "outputs": [],
   "source": []
  },
  {
   "cell_type": "markdown",
   "metadata": {},
   "source": [
    "# Troubleshoot"
   ]
  },
  {
   "cell_type": "markdown",
   "metadata": {},
   "source": [
    "<img src=\"images/trouble.jpg\"/>\n",
    "\n",
    "* google error\n",
    "* check stack overflow\n",
    "* rest then go back to the error"
   ]
  },
  {
   "cell_type": "code",
   "execution_count": null,
   "metadata": {},
   "outputs": [],
   "source": []
  },
  {
   "cell_type": "markdown",
   "metadata": {},
   "source": [
    "# Reference\n",
    "\n",
    "`Web`\n",
    "https://realpython.com/python-f-strings/ <br>\n",
    "https://www.w3schools.com/python/python_numbers.asp <br>\n",
    "https://www.w3schools.com/python/python_functions.asp <br>\n",
    "https://www.w3schools.com/python/ref_func_filter.asp <br>\n",
    "https://www.tutorialspoint.com/difference-between-method-and-function-in-python#:~:text=A%20method%20in%20python%20is,is%20contained%20within%20the%20class.\n",
    "http://pythonforbiologists.com <br>\n",
    "\n",
    "`Github`\n",
    "https://github.com/Asabeneh/30-Days-Of-Python/tree/master/01_Day_Introduction <br>\n",
    "https://github.com/Asabeneh/30-Days-Of-Python <br>\n",
    "https://github.com/trekhleb/learn-python <br>\n",
    "\n",
    "`Online` + `Bootcamp` <br>\n",
    "Udemy Pierian Data https://www.udemy.com/course/complete-python-bootcamp/ <br>\n",
    "Eskwelabs"
   ]
  },
  {
   "cell_type": "code",
   "execution_count": null,
   "metadata": {},
   "outputs": [],
   "source": []
  }
 ],
 "metadata": {
  "kernelspec": {
   "display_name": "Python 3",
   "language": "python",
   "name": "python3"
  },
  "language_info": {
   "codemirror_mode": {
    "name": "ipython",
    "version": 3
   },
   "file_extension": ".py",
   "mimetype": "text/x-python",
   "name": "python",
   "nbconvert_exporter": "python",
   "pygments_lexer": "ipython3",
   "version": "3.7.7"
  },
  "toc": {
   "base_numbering": 1,
   "nav_menu": {
    "height": "352px",
    "width": "405px"
   },
   "number_sections": true,
   "sideBar": true,
   "skip_h1_title": false,
   "title_cell": "Table of Contents",
   "title_sidebar": "Contents",
   "toc_cell": false,
   "toc_position": {},
   "toc_section_display": true,
   "toc_window_display": false
  }
 },
 "nbformat": 4,
 "nbformat_minor": 4
}
